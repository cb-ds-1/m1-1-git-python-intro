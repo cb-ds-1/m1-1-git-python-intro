{
 "nbformat": 4,
 "nbformat_minor": 2,
 "metadata": {
  "language_info": {
   "name": "python",
   "codemirror_mode": {
    "name": "ipython",
    "version": 3
   },
   "version": "3.8.3-final"
  },
  "orig_nbformat": 2,
  "file_extension": ".py",
  "mimetype": "text/x-python",
  "name": "python",
  "npconvert_exporter": "python",
  "pygments_lexer": "ipython3",
  "version": 3,
  "kernelspec": {
   "name": "python3",
   "display_name": "Python 3"
  }
 },
 "cells": [
  {
   "source": [
    "# Warmup: adder function\n",
    "\n",
    "Create a function that takes two numbers as arguments and return their sum.\n",
    "Examples\n",
    "\n",
    "addition(3, 2) ➞ 5\n",
    "\n",
    "addition(-3, -6) ➞ -9\n",
    "\n",
    "addition(7, 3) ➞ 10"
   ],
   "cell_type": "markdown",
   "metadata": {}
  },
  {
   "cell_type": "code",
   "execution_count": 139,
   "metadata": {},
   "outputs": [],
   "source": [
    "def addition(x, y):\n",
    "    return x + y"
   ]
  },
  {
   "cell_type": "code",
   "execution_count": 140,
   "metadata": {},
   "outputs": [
    {
     "output_type": "stream",
     "name": "stdout",
     "text": [
      "5\n-9\n10\n"
     ]
    }
   ],
   "source": [
    "print(addition(3, 2))   # 5\n",
    "print(addition(-3, -6)) # -9\n",
    "print(addition(7, 3))   # 10"
   ]
  },
  {
   "source": [
    "# Warmup 2: even numbers\n",
    "\n",
    "Generate a Python list of all the even numbers between 4 to 3048"
   ],
   "cell_type": "markdown",
   "metadata": {}
  },
  {
   "source": [
    "# between 4 to 3028 i.e. do not include\n",
    "print(list(range(6, 3048, 2)), end=\" \")\n"
   ],
   "cell_type": "code",
   "metadata": {},
   "execution_count": 141,
   "outputs": [
    {
     "output_type": "stream",
     "name": "stdout",
     "text": [
      "[6, 8, 10, 12, 14, 16, 18, 20, 22, 24, 26, 28, 30, 32, 34, 36, 38, 40, 42, 44, 46, 48, 50, 52, 54, 56, 58, 60, 62, 64, 66, 68, 70, 72, 74, 76, 78, 80, 82, 84, 86, 88, 90, 92, 94, 96, 98, 100, 102, 104, 106, 108, 110, 112, 114, 116, 118, 120, 122, 124, 126, 128, 130, 132, 134, 136, 138, 140, 142, 144, 146, 148, 150, 152, 154, 156, 158, 160, 162, 164, 166, 168, 170, 172, 174, 176, 178, 180, 182, 184, 186, 188, 190, 192, 194, 196, 198, 200, 202, 204, 206, 208, 210, 212, 214, 216, 218, 220, 222, 224, 226, 228, 230, 232, 234, 236, 238, 240, 242, 244, 246, 248, 250, 252, 254, 256, 258, 260, 262, 264, 266, 268, 270, 272, 274, 276, 278, 280, 282, 284, 286, 288, 290, 292, 294, 296, 298, 300, 302, 304, 306, 308, 310, 312, 314, 316, 318, 320, 322, 324, 326, 328, 330, 332, 334, 336, 338, 340, 342, 344, 346, 348, 350, 352, 354, 356, 358, 360, 362, 364, 366, 368, 370, 372, 374, 376, 378, 380, 382, 384, 386, 388, 390, 392, 394, 396, 398, 400, 402, 404, 406, 408, 410, 412, 414, 416, 418, 420, 422, 424, 426, 428, 430, 432, 434, 436, 438, 440, 442, 444, 446, 448, 450, 452, 454, 456, 458, 460, 462, 464, 466, 468, 470, 472, 474, 476, 478, 480, 482, 484, 486, 488, 490, 492, 494, 496, 498, 500, 502, 504, 506, 508, 510, 512, 514, 516, 518, 520, 522, 524, 526, 528, 530, 532, 534, 536, 538, 540, 542, 544, 546, 548, 550, 552, 554, 556, 558, 560, 562, 564, 566, 568, 570, 572, 574, 576, 578, 580, 582, 584, 586, 588, 590, 592, 594, 596, 598, 600, 602, 604, 606, 608, 610, 612, 614, 616, 618, 620, 622, 624, 626, 628, 630, 632, 634, 636, 638, 640, 642, 644, 646, 648, 650, 652, 654, 656, 658, 660, 662, 664, 666, 668, 670, 672, 674, 676, 678, 680, 682, 684, 686, 688, 690, 692, 694, 696, 698, 700, 702, 704, 706, 708, 710, 712, 714, 716, 718, 720, 722, 724, 726, 728, 730, 732, 734, 736, 738, 740, 742, 744, 746, 748, 750, 752, 754, 756, 758, 760, 762, 764, 766, 768, 770, 772, 774, 776, 778, 780, 782, 784, 786, 788, 790, 792, 794, 796, 798, 800, 802, 804, 806, 808, 810, 812, 814, 816, 818, 820, 822, 824, 826, 828, 830, 832, 834, 836, 838, 840, 842, 844, 846, 848, 850, 852, 854, 856, 858, 860, 862, 864, 866, 868, 870, 872, 874, 876, 878, 880, 882, 884, 886, 888, 890, 892, 894, 896, 898, 900, 902, 904, 906, 908, 910, 912, 914, 916, 918, 920, 922, 924, 926, 928, 930, 932, 934, 936, 938, 940, 942, 944, 946, 948, 950, 952, 954, 956, 958, 960, 962, 964, 966, 968, 970, 972, 974, 976, 978, 980, 982, 984, 986, 988, 990, 992, 994, 996, 998, 1000, 1002, 1004, 1006, 1008, 1010, 1012, 1014, 1016, 1018, 1020, 1022, 1024, 1026, 1028, 1030, 1032, 1034, 1036, 1038, 1040, 1042, 1044, 1046, 1048, 1050, 1052, 1054, 1056, 1058, 1060, 1062, 1064, 1066, 1068, 1070, 1072, 1074, 1076, 1078, 1080, 1082, 1084, 1086, 1088, 1090, 1092, 1094, 1096, 1098, 1100, 1102, 1104, 1106, 1108, 1110, 1112, 1114, 1116, 1118, 1120, 1122, 1124, 1126, 1128, 1130, 1132, 1134, 1136, 1138, 1140, 1142, 1144, 1146, 1148, 1150, 1152, 1154, 1156, 1158, 1160, 1162, 1164, 1166, 1168, 1170, 1172, 1174, 1176, 1178, 1180, 1182, 1184, 1186, 1188, 1190, 1192, 1194, 1196, 1198, 1200, 1202, 1204, 1206, 1208, 1210, 1212, 1214, 1216, 1218, 1220, 1222, 1224, 1226, 1228, 1230, 1232, 1234, 1236, 1238, 1240, 1242, 1244, 1246, 1248, 1250, 1252, 1254, 1256, 1258, 1260, 1262, 1264, 1266, 1268, 1270, 1272, 1274, 1276, 1278, 1280, 1282, 1284, 1286, 1288, 1290, 1292, 1294, 1296, 1298, 1300, 1302, 1304, 1306, 1308, 1310, 1312, 1314, 1316, 1318, 1320, 1322, 1324, 1326, 1328, 1330, 1332, 1334, 1336, 1338, 1340, 1342, 1344, 1346, 1348, 1350, 1352, 1354, 1356, 1358, 1360, 1362, 1364, 1366, 1368, 1370, 1372, 1374, 1376, 1378, 1380, 1382, 1384, 1386, 1388, 1390, 1392, 1394, 1396, 1398, 1400, 1402, 1404, 1406, 1408, 1410, 1412, 1414, 1416, 1418, 1420, 1422, 1424, 1426, 1428, 1430, 1432, 1434, 1436, 1438, 1440, 1442, 1444, 1446, 1448, 1450, 1452, 1454, 1456, 1458, 1460, 1462, 1464, 1466, 1468, 1470, 1472, 1474, 1476, 1478, 1480, 1482, 1484, 1486, 1488, 1490, 1492, 1494, 1496, 1498, 1500, 1502, 1504, 1506, 1508, 1510, 1512, 1514, 1516, 1518, 1520, 1522, 1524, 1526, 1528, 1530, 1532, 1534, 1536, 1538, 1540, 1542, 1544, 1546, 1548, 1550, 1552, 1554, 1556, 1558, 1560, 1562, 1564, 1566, 1568, 1570, 1572, 1574, 1576, 1578, 1580, 1582, 1584, 1586, 1588, 1590, 1592, 1594, 1596, 1598, 1600, 1602, 1604, 1606, 1608, 1610, 1612, 1614, 1616, 1618, 1620, 1622, 1624, 1626, 1628, 1630, 1632, 1634, 1636, 1638, 1640, 1642, 1644, 1646, 1648, 1650, 1652, 1654, 1656, 1658, 1660, 1662, 1664, 1666, 1668, 1670, 1672, 1674, 1676, 1678, 1680, 1682, 1684, 1686, 1688, 1690, 1692, 1694, 1696, 1698, 1700, 1702, 1704, 1706, 1708, 1710, 1712, 1714, 1716, 1718, 1720, 1722, 1724, 1726, 1728, 1730, 1732, 1734, 1736, 1738, 1740, 1742, 1744, 1746, 1748, 1750, 1752, 1754, 1756, 1758, 1760, 1762, 1764, 1766, 1768, 1770, 1772, 1774, 1776, 1778, 1780, 1782, 1784, 1786, 1788, 1790, 1792, 1794, 1796, 1798, 1800, 1802, 1804, 1806, 1808, 1810, 1812, 1814, 1816, 1818, 1820, 1822, 1824, 1826, 1828, 1830, 1832, 1834, 1836, 1838, 1840, 1842, 1844, 1846, 1848, 1850, 1852, 1854, 1856, 1858, 1860, 1862, 1864, 1866, 1868, 1870, 1872, 1874, 1876, 1878, 1880, 1882, 1884, 1886, 1888, 1890, 1892, 1894, 1896, 1898, 1900, 1902, 1904, 1906, 1908, 1910, 1912, 1914, 1916, 1918, 1920, 1922, 1924, 1926, 1928, 1930, 1932, 1934, 1936, 1938, 1940, 1942, 1944, 1946, 1948, 1950, 1952, 1954, 1956, 1958, 1960, 1962, 1964, 1966, 1968, 1970, 1972, 1974, 1976, 1978, 1980, 1982, 1984, 1986, 1988, 1990, 1992, 1994, 1996, 1998, 2000, 2002, 2004, 2006, 2008, 2010, 2012, 2014, 2016, 2018, 2020, 2022, 2024, 2026, 2028, 2030, 2032, 2034, 2036, 2038, 2040, 2042, 2044, 2046, 2048, 2050, 2052, 2054, 2056, 2058, 2060, 2062, 2064, 2066, 2068, 2070, 2072, 2074, 2076, 2078, 2080, 2082, 2084, 2086, 2088, 2090, 2092, 2094, 2096, 2098, 2100, 2102, 2104, 2106, 2108, 2110, 2112, 2114, 2116, 2118, 2120, 2122, 2124, 2126, 2128, 2130, 2132, 2134, 2136, 2138, 2140, 2142, 2144, 2146, 2148, 2150, 2152, 2154, 2156, 2158, 2160, 2162, 2164, 2166, 2168, 2170, 2172, 2174, 2176, 2178, 2180, 2182, 2184, 2186, 2188, 2190, 2192, 2194, 2196, 2198, 2200, 2202, 2204, 2206, 2208, 2210, 2212, 2214, 2216, 2218, 2220, 2222, 2224, 2226, 2228, 2230, 2232, 2234, 2236, 2238, 2240, 2242, 2244, 2246, 2248, 2250, 2252, 2254, 2256, 2258, 2260, 2262, 2264, 2266, 2268, 2270, 2272, 2274, 2276, 2278, 2280, 2282, 2284, 2286, 2288, 2290, 2292, 2294, 2296, 2298, 2300, 2302, 2304, 2306, 2308, 2310, 2312, 2314, 2316, 2318, 2320, 2322, 2324, 2326, 2328, 2330, 2332, 2334, 2336, 2338, 2340, 2342, 2344, 2346, 2348, 2350, 2352, 2354, 2356, 2358, 2360, 2362, 2364, 2366, 2368, 2370, 2372, 2374, 2376, 2378, 2380, 2382, 2384, 2386, 2388, 2390, 2392, 2394, 2396, 2398, 2400, 2402, 2404, 2406, 2408, 2410, 2412, 2414, 2416, 2418, 2420, 2422, 2424, 2426, 2428, 2430, 2432, 2434, 2436, 2438, 2440, 2442, 2444, 2446, 2448, 2450, 2452, 2454, 2456, 2458, 2460, 2462, 2464, 2466, 2468, 2470, 2472, 2474, 2476, 2478, 2480, 2482, 2484, 2486, 2488, 2490, 2492, 2494, 2496, 2498, 2500, 2502, 2504, 2506, 2508, 2510, 2512, 2514, 2516, 2518, 2520, 2522, 2524, 2526, 2528, 2530, 2532, 2534, 2536, 2538, 2540, 2542, 2544, 2546, 2548, 2550, 2552, 2554, 2556, 2558, 2560, 2562, 2564, 2566, 2568, 2570, 2572, 2574, 2576, 2578, 2580, 2582, 2584, 2586, 2588, 2590, 2592, 2594, 2596, 2598, 2600, 2602, 2604, 2606, 2608, 2610, 2612, 2614, 2616, 2618, 2620, 2622, 2624, 2626, 2628, 2630, 2632, 2634, 2636, 2638, 2640, 2642, 2644, 2646, 2648, 2650, 2652, 2654, 2656, 2658, 2660, 2662, 2664, 2666, 2668, 2670, 2672, 2674, 2676, 2678, 2680, 2682, 2684, 2686, 2688, 2690, 2692, 2694, 2696, 2698, 2700, 2702, 2704, 2706, 2708, 2710, 2712, 2714, 2716, 2718, 2720, 2722, 2724, 2726, 2728, 2730, 2732, 2734, 2736, 2738, 2740, 2742, 2744, 2746, 2748, 2750, 2752, 2754, 2756, 2758, 2760, 2762, 2764, 2766, 2768, 2770, 2772, 2774, 2776, 2778, 2780, 2782, 2784, 2786, 2788, 2790, 2792, 2794, 2796, 2798, 2800, 2802, 2804, 2806, 2808, 2810, 2812, 2814, 2816, 2818, 2820, 2822, 2824, 2826, 2828, 2830, 2832, 2834, 2836, 2838, 2840, 2842, 2844, 2846, 2848, 2850, 2852, 2854, 2856, 2858, 2860, 2862, 2864, 2866, 2868, 2870, 2872, 2874, 2876, 2878, 2880, 2882, 2884, 2886, 2888, 2890, 2892, 2894, 2896, 2898, 2900, 2902, 2904, 2906, 2908, 2910, 2912, 2914, 2916, 2918, 2920, 2922, 2924, 2926, 2928, 2930, 2932, 2934, 2936, 2938, 2940, 2942, 2944, 2946, 2948, 2950, 2952, 2954, 2956, 2958, 2960, 2962, 2964, 2966, 2968, 2970, 2972, 2974, 2976, 2978, 2980, 2982, 2984, 2986, 2988, 2990, 2992, 2994, 2996, 2998, 3000, 3002, 3004, 3006, 3008, 3010, 3012, 3014, 3016, 3018, 3020, 3022, 3024, 3026, 3028, 3030, 3032, 3034, 3036, 3038, 3040, 3042, 3044, 3046] "
     ]
    }
   ]
  },
  {
   "cell_type": "markdown",
   "metadata": {},
   "source": [
    "# Exercise 1: First and Last \n",
    "\n",
    "Creates a function that takes a string and returns the first and last character.\n",
    "### Examples\n",
    "\n",
    "```\n",
    "first_last(\"ganesh\") ➞ \"gh\"\n",
    "\n",
    "first_last(\"kali\") ➞ \"ki\"\n",
    "\n",
    "first_last(\"shiva\") ➞ \"sa\"\n",
    "\n",
    "first_last(\"vishnu\") ➞ \"vu\"\n",
    "\n",
    "first_last(\"durga\") ➞ \"da\"\n",
    "```"
   ]
  },
  {
   "cell_type": "code",
   "execution_count": 142,
   "metadata": {},
   "outputs": [],
   "source": [
    "def first_last(s):\n",
    "    return s[0] + s[-1]"
   ]
  },
  {
   "cell_type": "code",
   "execution_count": 143,
   "metadata": {},
   "outputs": [
    {
     "output_type": "stream",
     "name": "stdout",
     "text": [
      "gh\nki\nsa\nvu\nda\n"
     ]
    }
   ],
   "source": [
    "print(first_last(\"ganesh\")) # gh\n",
    "print(first_last(\"kali\"))   # ki\n",
    "print(first_last(\"shiva\"))  # sa\n",
    "print(first_last(\"vishnu\")) # vu\n",
    "print(first_last(\"durga\"))  # da"
   ]
  },
  {
   "cell_type": "markdown",
   "metadata": {},
   "source": [
    "# Exercise 2: Keys in Dict\n",
    "\n",
    "Write a function that returns `True` if a dictionary contains the specified key, and `False` otherwise.\n",
    "\n",
    "### Examples\n",
    "\n",
    "```\n",
    "has_key({ \"a\": 44, \"b\": 45, \"c\": 46 }, \"d\") ➞ False\n",
    "\n",
    "has_key({ \"craves\": True, \"midnight\": True, \"snack\": True }, \"morning\") ➞ False\n",
    "\n",
    "has_key({ \"pot\": 1, \"tot\": 2, \"not\": 3 }, \"not\") ➞ True\n",
    "```"
   ]
  },
  {
   "cell_type": "code",
   "execution_count": 144,
   "metadata": {},
   "outputs": [],
   "source": [
    "def has_key(l, key):\n",
    "    if key in l:\n",
    "        return True\n",
    "    return False"
   ]
  },
  {
   "cell_type": "code",
   "execution_count": 145,
   "metadata": {},
   "outputs": [
    {
     "output_type": "stream",
     "name": "stdout",
     "text": [
      "False\nFalse\nTrue\n"
     ]
    }
   ],
   "source": [
    "print(has_key({ \"a\": 44, \"b\": 45, \"c\": 46 }, \"d\"))                              # False\n",
    "print(has_key({ \"craves\": True, \"midnight\": True, \"snack\": True }, \"morning\"))  # False\n",
    "print(has_key({ \"pot\": 1, \"tot\": 2, \"not\": 3 }, \"not\"))                         # True"
   ]
  },
  {
   "cell_type": "markdown",
   "metadata": {},
   "source": [
    "# Exercise 3: Element Count\n",
    "\n",
    "Write a function that count how many times each element in a list occurs. It should return a dict in the format `element -> count`\n",
    "\n",
    "ex:\n",
    "```\n",
    "key_count([1, 3, 2, 1, 5, 3, 5, 1, 4]) ⇒ {\n",
    "    1: 3,\n",
    "    2: 1,\n",
    "    3: 2,\n",
    "    4: 1,\n",
    "    5: 2,\n",
    "}\n",
    "```"
   ]
  },
  {
   "cell_type": "code",
   "execution_count": 146,
   "metadata": {},
   "outputs": [],
   "source": [
    "def key_count(l):\n",
    "  dict = {}\n",
    "  for key in set(l): \n",
    "    dict[key] = l.count(key)\n",
    "  return dict"
   ]
  },
  {
   "cell_type": "code",
   "execution_count": 147,
   "metadata": {},
   "outputs": [
    {
     "output_type": "execute_result",
     "data": {
      "text/plain": [
       "{1: 3, 2: 1, 3: 2, 4: 1, 5: 2}"
      ]
     },
     "metadata": {},
     "execution_count": 147
    }
   ],
   "source": [
    "key_count([1, 3, 2, 1, 5, 3, 5, 1, 4]) # {1: 3, 2: 1, 3: 2, 4: 1, 5: 2}"
   ]
  },
  {
   "cell_type": "markdown",
   "metadata": {},
   "source": [
    "# Exercise 4: Test Distinct\n",
    "\n",
    "Write a Python function that takes a sequence of numbers and determines whether all the numbers are different from each other.\n",
    "\n",
    "```\n",
    "test_distinct([2,3,4,5,7,8]) -> True\n",
    "test_distinct([2,3,4,5,8,8]) -> False\n",
    "```"
   ]
  },
  {
   "cell_type": "code",
   "execution_count": 148,
   "metadata": {},
   "outputs": [],
   "source": [
    "def test_distinct(l):\n",
    "    s = set(l)\n",
    "    if len(l) == len(s):\n",
    "        return True\n",
    "    return False"
   ]
  },
  {
   "cell_type": "code",
   "execution_count": 149,
   "metadata": {},
   "outputs": [
    {
     "output_type": "stream",
     "name": "stdout",
     "text": [
      "True\nFalse\n"
     ]
    }
   ],
   "source": [
    "print(test_distinct([2,3,4,5,7,8])) # True\n",
    "print(test_distinct([2,3,4,5,8,8])) # False"
   ]
  },
  {
   "source": [
    "# Exercise 5: Debt Calculator\n",
    "\n",
    "Write a Python program to compute the amount of the debt in n months. The borrowing amount is $100,000 and the loan adds 5% interest of the debt and rounds it to the nearest 1,000 above month by month.\n",
    "\n",
    "The function takes in an integer (the number of months) and returns the total debt including the starting \\$100,000 rounded to \\$1000 .\n",
    "\n",
    "```\n",
    "debt_total(7) -> 144000\n",
    "debt_total(8) -> 152000\n",
    "debt_total(9) -> 160000\n",
    "debt_total(1) -> 105000\n",
    "debt_total(57) -> 1736000\n",
    "```\n"
   ],
   "cell_type": "markdown",
   "metadata": {}
  },
  {
   "cell_type": "code",
   "execution_count": 150,
   "metadata": {},
   "outputs": [],
   "source": [
    "def debt_total(months):\n",
    "    debt = 100000\n",
    "    for i in range(months):\n",
    "        #debt = math.ceil(debt * 1.05 / 1000) * 1000\n",
    "        debt = int( round_thsd(debt * 1.05) )\n",
    "    return debt\n",
    "\n",
    "def round_thsd(n):\n",
    "    if n % 1000 == 0: return n  \n",
    "    return ( (n//1000) + 1 ) * 1000 "
   ]
  },
  {
   "cell_type": "code",
   "execution_count": 151,
   "metadata": {},
   "outputs": [
    {
     "output_type": "stream",
     "name": "stdout",
     "text": [
      "144000\n152000\n160000\n105000\n1736000\n"
     ]
    }
   ],
   "source": [
    "print(debt_total(7))  # 144000\n",
    "print(debt_total(8))  # 152000\n",
    "print(debt_total(9))  # 160000\n",
    "print(debt_total(1))  # 105000\n",
    "print(debt_total(57)) # 1736000\n",
    "#print(debt_total(0)) # 100000"
   ]
  },
  {
   "cell_type": "markdown",
   "metadata": {},
   "source": [
    "# Exercise 6: Spell Checker\n",
    "\n",
    "Create a function that takes in two lists: \n",
    "\n",
    "1. A sentence as a list of user-typed words\n",
    "\n",
    "2. The list of correctly-typed words\n",
    "\n",
    "and outputs a list containing 1s (correctly-typed words) and 0s (incorrectly-typed words).\n",
    "\n",
    "### Inputs:\n",
    "> User-typed: \\[\"cat\", \"blue\", \"skt\", \"umbrells\", \"paddy\"\\]\n",
    "\n",
    "> Correct: \\[\"cat\", \"blue\", \"sky\", \"umbrella\", \"paddy\"\\]\n",
    "\n",
    "### Output: \\[ 1, 1, 0, 0, 1 \\]\n",
    "\n",
    "### Examples\n",
    "\n",
    "```\n",
    "correct_stream(\n",
    "  [\"it\", \"is\", \"find\"],\n",
    "  [\"it\", \"is\", \"fine\"]\n",
    ") ➞ [1, 1, 0]\n",
    "\n",
    "correct_stream(\n",
    "  [\"april\", \"showrs\", \"bring\", \"may\", \"flowers\"],\n",
    "  [\"april\", \"showers\", \"bring\", \"may\", \"flowers\"]\n",
    ") ➞ [1, 0, 1, 1, 1]\n",
    "\n",
    "```"
   ]
  },
  {
   "cell_type": "code",
   "execution_count": 152,
   "metadata": {},
   "outputs": [],
   "source": [
    "# assuming the lists are the same dimension\n",
    "def correct_stream(typed, correct):\n",
    "    if len(typed) != len(correct): \n",
    "      return \"Lists not matching in length\"\n",
    "    \n",
    "    output = []\n",
    "    for i in range(len(typed)):\n",
    "        if typed[i] == correct[i]: \n",
    "          output.append(1)\n",
    "        else: \n",
    "          output.append(0)\n",
    "    return output"
   ]
  },
  {
   "cell_type": "code",
   "execution_count": 153,
   "metadata": {},
   "outputs": [
    {
     "output_type": "stream",
     "name": "stdout",
     "text": [
      "[1, 1, 0]\n",
      "[1, 0, 1, 1, 1]\n",
      "Lists not matching in length\n"
     ]
    }
   ],
   "source": [
    "print(correct_stream(\n",
    "  [\"it\", \"is\", \"find\"],\n",
    "  [\"it\", \"is\", \"fine\"]\n",
    "))  # [1, 1, 0]\n",
    "\n",
    "print(correct_stream(\n",
    "  [\"april\", \"showrs\", \"bring\", \"may\", \"flowers\"],\n",
    "  [\"april\", \"showers\", \"bring\", \"may\", \"flowers\"]\n",
    "))  # [1, 0, 1, 1, 1]\n",
    "\n",
    "\n",
    "print(correct_stream(\n",
    "  [\"april\", \"showrs\", \"bring\", \"may\", \"flowers\", \"and\", \"fruits\"],\n",
    "  [\"april\", \"showers\", \"bring\", \"may\", \"flowers\"]\n",
    "))  # Lists not matching in length"
   ]
  },
  {
   "cell_type": "markdown",
   "metadata": {},
   "source": [
    "# Exercise 7: FizzBuzz\n",
    "\n",
    "Fizzbuzz is a game for children and a drinking game for adults. It's also a classic programming interview question.\n",
    "\n",
    "Suppose we have a number n. We have to display a string representation of all numbers from 1 to n, but there are some constraints.\n",
    "\n",
    "    If the number is divisible by 3, write Fizz instead of the number\n",
    "    If the number is divisible by 5, write Buzz instead of the number\n",
    "    If the number is divisible by 3 and 5 both, write FizzBuzz instead of the number\n",
    "\n",
    "So the results are `1, 2, Fizz, 4, Buzz, ..., 14, Fizzbuzz, 16, 17, Fizz, 19, Buzz, ...`\n",
    "\n",
    "Write a python program that prints fizzbuzz for numbers 1 to 150"
   ]
  },
  {
   "cell_type": "code",
   "execution_count": 154,
   "metadata": {},
   "outputs": [],
   "source": [
    "def fizzbuzz(n1, n2):\n",
    "    output = []\n",
    "\n",
    "    for num in range(n1, n2 + 1):\n",
    "        if num % 3 == 0 and num % 5 == 0:\n",
    "            output.append(\"FizzBuzz\")\n",
    "        elif num % 3 == 0:\n",
    "            output.append(\"Fizz\")\n",
    "        elif num % 5 == 0:\n",
    "            output.append(\"Buzz\")\n",
    "        else:\n",
    "            output.append(num)\n",
    "\n",
    "    return print(*output, sep = \", \")"
   ]
  },
  {
   "cell_type": "code",
   "execution_count": 155,
   "metadata": {},
   "outputs": [
    {
     "output_type": "stream",
     "name": "stdout",
     "text": [
      "1, 2, Fizz, 4, Buzz, Fizz, 7, 8, Fizz, Buzz, 11, Fizz, 13, 14, FizzBuzz, 16, 17, Fizz, 19, Buzz, Fizz, 22, 23, Fizz, Buzz, 26, Fizz, 28, 29, FizzBuzz, 31, 32, Fizz, 34, Buzz, Fizz, 37, 38, Fizz, Buzz, 41, Fizz, 43, 44, FizzBuzz, 46, 47, Fizz, 49, Buzz, Fizz, 52, 53, Fizz, Buzz, 56, Fizz, 58, 59, FizzBuzz, 61, 62, Fizz, 64, Buzz, Fizz, 67, 68, Fizz, Buzz, 71, Fizz, 73, 74, FizzBuzz, 76, 77, Fizz, 79, Buzz, Fizz, 82, 83, Fizz, Buzz, 86, Fizz, 88, 89, FizzBuzz, 91, 92, Fizz, 94, Buzz, Fizz, 97, 98, Fizz, Buzz, 101, Fizz, 103, 104, FizzBuzz, 106, 107, Fizz, 109, Buzz, Fizz, 112, 113, Fizz, Buzz, 116, Fizz, 118, 119, FizzBuzz, 121, 122, Fizz, 124, Buzz, Fizz, 127, 128, Fizz, Buzz, 131, Fizz, 133, 134, FizzBuzz, 136, 137, Fizz, 139, Buzz, Fizz, 142, 143, Fizz, Buzz, 146, Fizz, 148, 149, FizzBuzz\n"
     ]
    }
   ],
   "source": [
    "fizzbuzz(1, 150)"
   ]
  },
  {
   "cell_type": "markdown",
   "metadata": {},
   "source": [
    "# Exercise 8: Palindrome?\n",
    "\n",
    "A palindrome is a word which reads the same backward as forwards. Write a function that returns `True` if a string is a palindrome:\n",
    "```\n",
    "    “laval” ⇒ Yes\n",
    "    “montreal” ⇒ No\n",
    "```"
   ]
  },
  {
   "cell_type": "code",
   "execution_count": 156,
   "metadata": {},
   "outputs": [],
   "source": [
    "def palindrome(s):\n",
    "    # compare the first and last letter then loop toward the middle\n",
    "    for i in range(len(s)//2):\n",
    "        if s[i] != s[-i-1]: return False\n",
    "    return True"
   ]
  },
  {
   "cell_type": "code",
   "execution_count": 157,
   "metadata": {},
   "outputs": [
    {
     "output_type": "stream",
     "name": "stdout",
     "text": [
      "True\nFalse\n"
     ]
    }
   ],
   "source": [
    "print(palindrome(\"laval\"))        # True\n",
    "print(palindrome(\"montreal\"))     # False\n",
    "#print(palindrome(\"longueuil\"))   # False\n",
    "#print(palindrome(\"detartrated\")) # True"
   ]
  },
  {
   "cell_type": "markdown",
   "metadata": {},
   "source": [
    "# Exercise 9: Counting Country IDs\n",
    "\n",
    "We have a list of user IDS with identifiers of form “userid-COUNTRYID”. Calculate how many countries we have.\n",
    "\n",
    "Ex:\n",
    "```\n",
    "[gyhwefy7832ryyg-US, iu7ytf87gyuwef-CA, 98yfyg82t3r-US] -> {'US': 2, 'CA': 1}\n",
    "\n",
    "[gyhwefy7832ryyg-US, iu7ytf87gyuwef-CA, 98yfyg82t3r-US,\n",
    "    iuhsdf897y3righsfe-US, iushdf98h23ryg-IT, iuhdf9h32ryu9gf-IT,\n",
    "    IUufgh98y34-FR, 98yfdiuhdfbviuh8-UK\n",
    "] -> {'US': 3, 'CA': 1, \"IT\": 2, 'UK':1, 'FR':1}\n",
    "```"
   ]
  },
  {
   "cell_type": "code",
   "execution_count": 158,
   "metadata": {},
   "outputs": [],
   "source": [
    "def country_count(l):\n",
    "    country_list = []\n",
    "\n",
    "    for id in l:\n",
    "        country_list.append(id[-2:])\n",
    "\n",
    "    # from Exercise 3 \n",
    "    return key_count(country_list)"
   ]
  },
  {
   "cell_type": "code",
   "execution_count": 159,
   "metadata": {},
   "outputs": [
    {
     "output_type": "stream",
     "name": "stdout",
     "text": [
      "{'US': 2, 'CA': 1}\n{'FR': 1, 'CA': 1, 'UK': 1, 'IT': 2, 'US': 3}\n"
     ]
    }
   ],
   "source": [
    "print(country_count([\"gyhwefy7832ryyg-US\", \"iu7ytf87gyuwef-CA\", \"98yfyg82t3r-US\"])) \n",
    "# {'US': 2, 'CA': 1}\n",
    "    \n",
    "print(country_count([\"gyhwefy7832ryyg-US\", \"iu7ytf87gyuwef-CA\", \"98yfyg82t3r-US\",\n",
    "    \"iuhsdf897y3righsfe-US\", \"iushdf98h23ryg-IT\", \"iuhdf9h32ryu9gf-IT\",\n",
    "    \"IUufgh98y34-FR\", \"98yfdiuhdfbviuh8-UK\"\n",
    "])) # {'US': 3, 'CA': 1, 'IT': 2, 'UK':1, 'FR':1}\n"
   ]
  },
  {
   "cell_type": "markdown",
   "metadata": {},
   "source": [
    "# Exercise 10: Identifying top countries\n",
    "\n",
    "Using your solution to the problem above, write a function that returns the top 3 countries by number of users"
   ]
  },
  {
   "cell_type": "code",
   "execution_count": 160,
   "metadata": {},
   "outputs": [],
   "source": [
    "# return the top 3 countries (if equality return the first country in the dict)\n",
    "def top3(dict):\n",
    "    top3 = []\n",
    "    \n",
    "    for i in range(3):\n",
    "        max_val = 0\n",
    "        max_key = None\n",
    "        for key in dict:\n",
    "            if max_val < dict[key]:\n",
    "                max_val = dict[key] \n",
    "                max_key = key\n",
    "        if max_key is not None: \n",
    "            top3.append(max_key)\n",
    "            dict.pop(max_key, None)\n",
    "\n",
    "    return top3\n",
    "\n",
    "# or just use \n",
    "#sorted(((value,key) for (key,value) in dict.items()), reverse=True)[0:3]"
   ]
  },
  {
   "cell_type": "code",
   "execution_count": 161,
   "metadata": {},
   "outputs": [
    {
     "output_type": "stream",
     "name": "stdout",
     "text": [
      "['US', 'CA']\n['US', 'IT', 'FR']\n"
     ]
    }
   ],
   "source": [
    "print(top3({'CA': 1, 'US': 2}))                             # ['US', 'CA']\n",
    "print(top3({'FR': 1, 'CA': 1, 'IT': 2, 'US': 3, 'UK': 1}))  # ['US', 'IT', 'FR']"
   ]
  },
  {
   "source": [
    "# Exercise 11: Century\n",
    "\n",
    "Write a function that takes a year and returns its corresponding century.\n",
    "\n",
    "### Examples\n",
    "\n",
    "```\n",
    "century_from_year(2005) ➞ 21\n",
    "\n",
    "century_from_year(1850) ➞ 19\n",
    "\n",
    "century_from_year(-332) ➞ -4\n",
    "\n",
    "century_from_year(55) ➞ 1\n",
    "\n",
    "century_from_year(-65) ➞ -1\n",
    "```"
   ],
   "cell_type": "markdown",
   "metadata": {}
  },
  {
   "cell_type": "code",
   "execution_count": 162,
   "metadata": {},
   "outputs": [],
   "source": [
    "# using the STRICT definition of a century (2001-2100 ➞ 21)\n",
    "def century_from_year(year):\n",
    "    if year == 0: \n",
    "        return \"year 0 does not exists\"\n",
    "    if year > 0:\n",
    "        return int( (year - 1) / 100 ) + 1\n",
    "    return int( (year + 1) / 100 ) - 1\n",
    "    "
   ]
  },
  {
   "cell_type": "code",
   "execution_count": 163,
   "metadata": {},
   "outputs": [
    {
     "output_type": "stream",
     "name": "stdout",
     "text": [
      "21\n19\n-4\n1\n-1\n"
     ]
    }
   ],
   "source": [
    "print(century_from_year(2005))  # 21\n",
    "print(century_from_year(1850))  # 19\n",
    "print(century_from_year(-332))  # -4\n",
    "print(century_from_year(55))    # 1\n",
    "print(century_from_year(-65))   # -1\n",
    "#print(century_from_year(2000)) # should return 20 (not 21)\n",
    "#print(century_from_year(0))    # year 0 does not exists"
   ]
  },
  {
   "cell_type": "markdown",
   "metadata": {},
   "source": [
    "# Exercise 12: Grade school addition\n",
    "\n",
    "Write a function that, given two lists of integers, adds them as if they were two numbers. So `12` would be `[1,2]` and `2357` would be `[2,3,5,7]`\n",
    "\n",
    "Ex:\n",
    "\n",
    "```\n",
    "    [1, 1] + [1] ⇒ 11 + 1 = 12\n",
    "    [9, 9] + [2] ⇒ 99 + 2 = 101\n",
    "```"
   ]
  },
  {
   "cell_type": "code",
   "execution_count": 164,
   "metadata": {},
   "outputs": [],
   "source": [
    "def add_lists(l1, l2):\n",
    "  return value_from_list(l1) + value_from_list(l2)\n",
    "\n",
    "def value_from_list(l):\n",
    "  value = 0\n",
    "  for i in range(len(l)):\n",
    "      value +=  l[i] * 10 ** (len(l)-1-i)\n",
    "  return value"
   ]
  },
  {
   "cell_type": "code",
   "execution_count": 165,
   "metadata": {},
   "outputs": [
    {
     "output_type": "stream",
     "name": "stdout",
     "text": [
      "12\n101\n"
     ]
    }
   ],
   "source": [
    "print(add_lists([1, 1], [1]))        # 12\n",
    "print(add_lists([9, 9], [2]))        # 101\n",
    "#print(add_lists([4, 2, 5], [3, 1])) # 456"
   ]
  },
  {
   "cell_type": "markdown",
   "metadata": {},
   "source": [
    "# Exercise 13: Printing the pretty pyramid\n",
    "\n",
    "This pyramid is pretty!\n",
    "```\n",
    "* \n",
    "* * \n",
    "* * * \n",
    "* * * * \n",
    "* * * * * \n",
    "* * * * * * \n",
    "* * * * * \n",
    "* * * * \n",
    "* * * \n",
    "* * \n",
    "* \n",
    "```\n",
    "\n",
    "Let's celebrate that.\n",
    "\n",
    "Given a number of rows, print a sideways pyramid with this number of \"levels\" on each side. For instance your function `pretty_pyramid(4)` would print out:\n",
    "\n",
    "```\n",
    "* \n",
    "* * \n",
    "* * * \n",
    "* * * * \n",
    "* * * \n",
    "* * \n",
    "* \n",
    "```\n",
    "\n",
    "And `pretty_pyramid(8)` would print out:\n",
    "\n",
    "```\n",
    "* \n",
    "* * \n",
    "* * * \n",
    "* * * * \n",
    "* * * * * \n",
    "* * * * * * \n",
    "* * * * * * * \n",
    "* * * * * * * * \n",
    "* * * * * * * \n",
    "* * * * * * \n",
    "* * * * * \n",
    "* * * * \n",
    "* * * \n",
    "* * \n",
    "* \n",
    "```"
   ]
  },
  {
   "cell_type": "code",
   "execution_count": 166,
   "metadata": {},
   "outputs": [],
   "source": [
    "def pretty_pyramid(levels):\n",
    "    star = \"* \"\n",
    "\n",
    "    for i in range(levels*2):\n",
    "        if i <= levels:\n",
    "            print(i*star)\n",
    "        else:\n",
    "            print((levels*2-i)*star)"
   ]
  },
  {
   "cell_type": "code",
   "execution_count": 167,
   "metadata": {},
   "outputs": [
    {
     "output_type": "stream",
     "name": "stdout",
     "text": [
      "\n* \n* * \n* * * \n* * * * \n* * * \n* * \n* \n\n* \n* * \n* * * \n* * * * \n* * * * * \n* * * * * * \n* * * * * * * \n* * * * * * * * \n* * * * * * * \n* * * * * * \n* * * * * \n* * * * \n* * * \n* * \n* \n"
     ]
    }
   ],
   "source": [
    "pretty_pyramid(4)\n",
    "pretty_pyramid(8)"
   ]
  },
  {
   "cell_type": "markdown",
   "metadata": {},
   "source": [
    "# Exercise 14: Lucky 7\n",
    "\n",
    "Return the sum of the numbers in an array, returning 0 for an empty array. \n",
    "\n",
    "The number 7 is “lucky”, therefore it does countdouble and the number that comes immediately after a 7 countstriple.\n",
    "\n",
    "```\n",
    "lucky_seven([1, 2, 4, 1]) → 8\n",
    "lucky_seven([1, 1]) → 2\n",
    "lucky_seven([1, 2, 2, 1, 7]) → 20\n",
    "lucky_seven([1, 2, 2, 1, 7, 3, 1]) → 30\n",
    "```\n"
   ]
  },
  {
   "cell_type": "code",
   "execution_count": 168,
   "metadata": {},
   "outputs": [],
   "source": [
    "def lucky_seven(l):\n",
    "    total = 0\n",
    "\n",
    "    for i in range(len(l)):\n",
    "        if l[i-1] == 7 and i-1 >= 0:\n",
    "            total += l[i] * 3\n",
    "        elif l[i] == 7:\n",
    "            total += 14\n",
    "        else:\n",
    "            total += l[i]\n",
    "    return total"
   ]
  },
  {
   "cell_type": "code",
   "execution_count": 169,
   "metadata": {},
   "outputs": [
    {
     "output_type": "stream",
     "name": "stdout",
     "text": [
      "8\n2\n20\n30\n"
     ]
    }
   ],
   "source": [
    "print(lucky_seven([1, 2, 4, 1]))            # 8\n",
    "print(lucky_seven([1, 1]))                  # 2\n",
    "print(lucky_seven([1, 2, 2, 1, 7]))         # 20\n",
    "print(lucky_seven([1, 2, 2, 1, 7, 3, 1]))   # 30\n",
    "#print(lucky_seven([7, 2, 2, 1, 7, 3, 1]))  # 47\n",
    "#print(lucky_seven([]))                     # 0"
   ]
  },
  {
   "cell_type": "markdown",
   "metadata": {},
   "source": [
    "# Exercise 15: Pascal's Triangle\n",
    "\n",
    "[Pascals Triangle](https://en.wikipedia.org/wiki/Pascal%27s_triangle) is a mathematical structure that's important in statistics and [combinatorics](https://en.wikipedia.org/wiki/Combinatorics). It starts with the number 1 and expands as a pyramid where a number is the sum of it's diagonal neighbors on the row above it.\n",
    "\n",
    "It looks like this (you can find more examples in the links):\n",
    "\n",
    "```\n",
    "                 1\n",
    "               1   1\n",
    "             1   2   1\n",
    "           1   3   3   1\n",
    "         1   4   6   4   1\n",
    "       1   5   10   10   5   1\n",
    "     1   6   15   20   15   6   1\n",
    "   1   7   21   35   35   21   7   1\n",
    "```\n",
    "\n",
    "Write a function that given an integer (the number of rows) prints out pascal's triangle up to the specified row. Example:\n",
    "\n",
    "```\n",
    "pascal_triangle(8)\n",
    "```\n",
    "out:\n",
    "```\n",
    "                 1\n",
    "\n",
    "               1   1\n",
    "\n",
    "             1   2   1\n",
    "\n",
    "           1   3   3   1\n",
    "\n",
    "         1   4   6   4   1\n",
    "\n",
    "       1   5   10   10   5   1\n",
    "\n",
    "     1   6   15   20   15   6   1\n",
    "\n",
    "   1   7   21   35   35   21   7   1\n",
    "\n",
    "```\n",
    "Another example\n",
    "\n",
    "```\n",
    "pascal_triangle(3)\n",
    "```\n",
    "out:\n",
    "```\n",
    "                 1\n",
    "\n",
    "               1   1\n",
    "\n",
    "             1   2   1\n",
    "\n",
    "```"
   ]
  },
  {
   "cell_type": "code",
   "execution_count": 170,
   "metadata": {},
   "outputs": [],
   "source": [
    "def pascal_triangle(nrow):\n",
    "\n",
    "  for n in range(nrow):\n",
    "    line = (nrow - n) * \"  \"\n",
    "    \n",
    "    for k in range(n + 1):\n",
    "      # any value in a Pascal triangle can be calculated with: n! / (k! * (n-k)!)\n",
    "      # where n is the row number and k is the column number \n",
    "      val = int(factorial(n) / (factorial(k) * factorial(n-k)))\n",
    "      line += str(val) + \"   \"\n",
    "\n",
    "    print(line + \"\\n\")\n",
    "\n",
    "def factorial(n):\n",
    "  f = 1\n",
    "  for i in range(1,n+1): f *= i\n",
    "  return f"
   ]
  },
  {
   "cell_type": "code",
   "execution_count": 171,
   "metadata": {},
   "outputs": [
    {
     "output_type": "stream",
     "name": "stdout",
     "text": [
      "                1   \n\n              1   1   \n\n            1   2   1   \n\n          1   3   3   1   \n\n        1   4   6   4   1   \n\n      1   5   10   10   5   1   \n\n    1   6   15   20   15   6   1   \n\n  1   7   21   35   35   21   7   1   \n\n"
     ]
    }
   ],
   "source": [
    "pascal_triangle(8)"
   ]
  },
  {
   "cell_type": "code",
   "execution_count": null,
   "metadata": {},
   "outputs": [],
   "source": []
  }
 ]
}