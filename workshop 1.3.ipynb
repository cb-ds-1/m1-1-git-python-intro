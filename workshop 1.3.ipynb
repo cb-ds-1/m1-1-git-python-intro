{
 "nbformat": 4,
 "nbformat_minor": 2,
 "metadata": {
  "language_info": {
   "name": "python",
   "codemirror_mode": {
    "name": "ipython",
    "version": 3
   },
   "version": "3.8.3-final"
  },
  "orig_nbformat": 2,
  "file_extension": ".py",
  "mimetype": "text/x-python",
  "name": "python",
  "npconvert_exporter": "python",
  "pygments_lexer": "ipython3",
  "version": 3,
  "kernelspec": {
   "name": "python3",
   "display_name": "Python 3"
  }
 },
 "cells": [
  {
   "cell_type": "markdown",
   "metadata": {},
   "source": [
    "# Warmup: adder function\n",
    "\n",
    "Create a function that takes two numbers as arguments and return their sum.\n",
    "Examples\n",
    "\n",
    "addition(3, 2) ➞ 5\n",
    "\n",
    "addition(-3, -6) ➞ -9\n",
    "\n",
    "addition(7, 3) ➞ 10"
   ]
  },
  {
   "cell_type": "markdown",
   "metadata": {},
   "source": [
    "# Warmup 2: even numbers\n",
    "\n",
    "Generate a Python list of all the even numbers between 4 to 3048"
   ]
  },
  {
   "cell_type": "markdown",
   "metadata": {},
   "source": [
    "# Exercise 1: First and Last \n",
    "\n",
    "Creates a function that takes a string and returns the first and last character.\n",
    "### Examples\n",
    "\n",
    "```\n",
    "first_last(\"ganesh\") ➞ \"gh\"\n",
    "\n",
    "first_last(\"kali\") ➞ \"ki\"\n",
    "\n",
    "first_last(\"shiva\") ➞ \"sa\"\n",
    "\n",
    "first_last(\"vishnu\") ➞ \"vu\"\n",
    "\n",
    "first_last(\"durga\") ➞ \"da\"\n",
    "```"
   ]
  },
  {
   "cell_type": "code",
   "execution_count": 2,
   "metadata": {},
   "outputs": [
    {
     "output_type": "stream",
     "name": "stdout",
     "text": [
      "gh\nki\nsa\nvu\nda\n"
     ]
    }
   ],
   "source": [
    "def string_first_last(str):\n",
    "    if len(str) < 2: \n",
    "        return ''\n",
    "\n",
    "    return str[0:1] + str[-1:]\n",
    "\n",
    "print(string_first_last(\"ganesh\"))\n",
    "print(string_first_last(\"kali\"))\n",
    "print(string_first_last(\"shiva\"))\n",
    "print(string_first_last(\"vishnu\"))\n",
    "print(string_first_last(\"durga\"))"
   ]
  },
  {
   "cell_type": "markdown",
   "metadata": {},
   "source": [
    "# Exercise 2: Keys in Dict\n",
    "\n",
    "Write a function that returns `True` if a dictionary contains the specified key, and `False` otherwise.\n",
    "\n",
    "### Examples\n",
    "\n",
    "```\n",
    "has_key({ \"a\": 44, \"b\": 45, \"c\": 46 }, \"d\") ➞ False\n",
    "\n",
    "has_key({ \"craves\": True, \"midnight\": True, \"snack\": True }, \"morning\") ➞ False\n",
    "\n",
    "has_key({ \"pot\": 1, \"tot\": 2, \"not\": 3 }, \"not\") ➞ True\n",
    "```"
   ]
  },
  {
   "cell_type": "code",
   "execution_count": 23,
   "metadata": {},
   "outputs": [
    {
     "output_type": "stream",
     "name": "stdout",
     "text": [
      "False\nFalse\nTrue\n"
     ]
    }
   ],
   "source": [
    "def has_key(dict, key):\n",
    "    if key in dict:\n",
    "        return True\n",
    "    else:\n",
    "        return False\n",
    "\n",
    "Dictionary1 = { \"a\": 44, \"b\": 45, \"c\": 46 }\n",
    "Dictionary2 = { \"craves\": True, \"midnight\": True, \"snack\": True }\n",
    "Dictionary3 = { \"pot\": 1, \"tot\": 2, \"not\": 3 }\n",
    "\n",
    "print(has_key(Dictionary1, \"d\"))\n",
    "print(has_key(Dictionary2, \"morning\"))\n",
    "print(has_key(Dictionary3, \"not\"))\n"
   ]
  },
  {
   "cell_type": "markdown",
   "metadata": {},
   "source": [
    "# Exercise 3: Element Count\n",
    "\n",
    "Write a function that count how many times each element in a list occurs. It should return a dict in the format `element -> count`\n",
    "\n",
    "ex:\n",
    "```\n",
    "key_count([1, 3, 2, 1, 5, 3, 5, 1, 4]) ⇒ {\n",
    "    1: 3,\n",
    "    2: 1,\n",
    "    3: 2,\n",
    "    4: 1,\n",
    "    5: 2,\n",
    "}\n",
    "```"
   ]
  },
  {
   "cell_type": "code",
   "execution_count": 40,
   "metadata": {},
   "outputs": [
    {
     "output_type": "stream",
     "name": "stdout",
     "text": [
      "{1: 3, 3: 2, 2: 1, 5: 2, 4: 1}\n"
     ]
    }
   ],
   "source": [
    "def key_count(items):\n",
    "    d = {}\n",
    "    for item in items: \n",
    "        if item in d: d[item] += 1\n",
    "        else: d[item] = 1\n",
    "    return d\n",
    "\n",
    "key = ([1, 3, 2, 1, 5, 3, 5, 1, 4])\n",
    "\n",
    "print(key_count(key))\n"
   ]
  },
  {
   "cell_type": "markdown",
   "metadata": {},
   "source": [
    "# Exercise 4: Test Distinct\n",
    "\n",
    "Write a Python function that takes a sequence of numbers and determines whether all the numbers are different from each other.\n",
    "\n",
    "```\n",
    "test_distinct([2,3,4,5,7,8]) -> True\n",
    "test_distinct([2,3,4,5,8,8]) -> False\n",
    "```"
   ]
  },
  {
   "cell_type": "code",
   "execution_count": 42,
   "metadata": {},
   "outputs": [
    {
     "output_type": "stream",
     "name": "stdout",
     "text": [
      "True\nFalse\n"
     ]
    }
   ],
   "source": [
    "def test_distinct(items):\n",
    "    if len(items) == len(set(items)):\n",
    "        return True\n",
    "    else:\n",
    "        return False\n",
    "\n",
    "test_1 = ([2,3,4,5,7,8])\n",
    "test_2 = ([2,3,4,5,8,8]) \n",
    "\n",
    "print(test_distinct(test_1))\n",
    "print(test_distinct(test_2))"
   ]
  },
  {
   "cell_type": "markdown",
   "metadata": {},
   "source": [
    "# Exercise 5: Debt Calculator\n",
    "\n",
    "Write a Python program to compute the amount of the debt in n months. The borrowing amount is $100,000 and the loan adds 5% interest of the debt and rounds it to the nearest 1,000 above month by month.\n",
    "\n",
    "The function takes in an integer (the number of months) and returns the total debt including the starting \\$100,000 rounded to \\$1000 .\n",
    "\n",
    "```\n",
    "debt_total(7) -> 144000\n",
    "debt_total(8) -> 152000\n",
    "debt_total(9) -> 160000\n",
    "debt_total(1) -> 105000\n",
    "debt_total(57) -> 1736000\n",
    "```\n"
   ]
  },
  {
   "cell_type": "code",
   "execution_count": 52,
   "metadata": {},
   "outputs": [
    {
     "output_type": "stream",
     "name": "stdout",
     "text": [
      "144000\n152000\n160000\n105000\n1736000\n"
     ]
    }
   ],
   "source": [
    "def round(n):\n",
    "    if n%1000:\n",
    "        return (1+n//1000)*1000\n",
    "    else:\n",
    "        return n\n",
    "\n",
    "def debt_calculator(n):\n",
    "    if n ==0:\n",
    "        return 100000\n",
    "    else: \n",
    "        return int(round(debt_calculator(n-1)*1.05))\n",
    "\n",
    "debt_1 = debt_calculator(int(7))\n",
    "debt_2 = debt_calculator(int(8))\n",
    "debt_3 = debt_calculator(int(9))\n",
    "debt_4 = debt_calculator(int(1))\n",
    "debt_5 = debt_calculator(int(57))\n",
    "\n",
    "print(str(debt_1).strip())\n",
    "print(str(debt_2).strip())\n",
    "print(str(debt_3).strip())\n",
    "print(str(debt_4).strip())\n",
    "print(str(debt_5).strip())\n"
   ]
  },
  {
   "cell_type": "markdown",
   "metadata": {},
   "source": [
    "# Exercise 6: Spell Checker\n",
    "\n",
    "Create a function that takes in two lists: \n",
    "\n",
    "1. A sentence as a list of user-typed words\n",
    "\n",
    "2. The list of correctly-typed words\n",
    "\n",
    "and outputs a list containing 1s (correctly-typed words) and 0s (incorrectly-typed words).\n",
    "\n",
    "### Inputs:\n",
    "> User-typed: \\[\"cat\", \"blue\", \"skt\", \"umbrells\", \"paddy\"\\]\n",
    "\n",
    "> Correct: \\[\"cat\", \"blue\", \"sky\", \"umbrella\", \"paddy\"\\]\n",
    "\n",
    "### Output: \\[ 1, 1, 0, 0, 1 \\]\n",
    "\n",
    "### Examples\n",
    "\n",
    "```\n",
    "correct_stream(\n",
    "  [\"it\", \"is\", \"find\"],\n",
    "  [\"it\", \"is\", \"fine\"]\n",
    ") ➞ [1, 1, 0]\n",
    "\n",
    "correct_stream(\n",
    "  [\"april\", \"showrs\", \"bring\", \"may\", \"flowers\"],\n",
    "  [\"april\", \"showers\", \"bring\", \"may\", \"flowers\"]\n",
    ") ➞ [1, 0, 1, 1, 1]\n",
    "\n",
    "```"
   ]
  },
  {
   "cell_type": "code",
   "execution_count": 73,
   "metadata": {},
   "outputs": [
    {
     "output_type": "stream",
     "name": "stdout",
     "text": [
      "[1, 1, 0, 0, 1]\n[True, True, False, False, True]\n"
     ]
    }
   ],
   "source": [
    "\n",
    "User = [\"cat\", \"blue\", \"skt\", \"umbrells\", \"paddy\"]\n",
    "Correct = [\"cat\", \"blue\", \"sky\", \"umbrella\", \"paddy\"]\n",
    "\n",
    "def spell_checker_long(l1, l2):\n",
    "    result = []\n",
    "    for x in l1:\n",
    "        if x in l2: \n",
    "            result.append(1)\n",
    "        else: \n",
    "            result.append(0)\n",
    "    return result\n",
    "\n",
    "print(spell_checker_long(User, Correct))\n",
    "\n",
    "##This is the 1 liner that I found on the internet\n",
    "def spell_checker(l1, l2):\n",
    "    return [i==j for i, j in zip(l1, l2)]\n",
    "\n",
    "print(spell_checker(User, Correct))"
   ]
  },
  {
   "cell_type": "markdown",
   "metadata": {},
   "source": [
    "# Exercise 7: FizzBuzz\n",
    "\n",
    "Fizzbuzz is a game for children and a drinking game for adults. It's also a classic programming interview question.\n",
    "\n",
    "Suppose we have a number n. We have to display a string representation of all numbers from 1 to n, but there are some constraints.\n",
    "\n",
    "    If the number is divisible by 3, write Fizz instead of the number\n",
    "    If the number is divisible by 5, write Buzz instead of the number\n",
    "    If the number is divisible by 3 and 5 both, write FizzBuzz instead of the number\n",
    "\n",
    "So the results are `1, 2, Fizz, 4, Buzz, ..., 14, Fizzbuzz, 16, 17, Fizz, 19, Buzz, ...`\n",
    "\n",
    "Write a python program that prints fizzbuzz for numbers 1 to 150"
   ]
  },
  {
   "cell_type": "code",
   "execution_count": 74,
   "metadata": {},
   "outputs": [
    {
     "output_type": "stream",
     "name": "stdout",
     "text": [
      "1\n2\nFizz\n4\nBuzz\nFizz\n7\n8\nFizz\nBuzz\n11\nFizz\n13\n14\nFizzBuzz\n16\n17\nFizz\n19\nBuzz\nFizz\n22\n23\nFizz\nBuzz\n26\nFizz\n28\n29\nFizzBuzz\n31\n32\nFizz\n34\nBuzz\nFizz\n37\n38\nFizz\nBuzz\n41\nFizz\n43\n44\nFizzBuzz\n46\n47\nFizz\n49\nBuzz\nFizz\n52\n53\nFizz\nBuzz\n56\nFizz\n58\n59\nFizzBuzz\n61\n62\nFizz\n64\nBuzz\nFizz\n67\n68\nFizz\nBuzz\n71\nFizz\n73\n74\nFizzBuzz\n76\n77\nFizz\n79\nBuzz\nFizz\n82\n83\nFizz\nBuzz\n86\nFizz\n88\n89\nFizzBuzz\n91\n92\nFizz\n94\nBuzz\nFizz\n97\n98\nFizz\nBuzz\n101\nFizz\n103\n104\nFizzBuzz\n106\n107\nFizz\n109\nBuzz\nFizz\n112\n113\nFizz\nBuzz\n116\nFizz\n118\n119\nFizzBuzz\n121\n122\nFizz\n124\nBuzz\nFizz\n127\n128\nFizz\nBuzz\n131\nFizz\n133\n134\nFizzBuzz\n136\n137\nFizz\n139\nBuzz\nFizz\n142\n143\nFizz\nBuzz\n146\nFizz\n148\n149\n"
     ]
    }
   ],
   "source": [
    "for num in range(1,150):\n",
    "    if num % 3 == 0 and num % 5 ==0:\n",
    "        print('FizzBuzz')\n",
    "    elif num % 3 == 0:\n",
    "        print('Fizz')\n",
    "    elif num % 5 ==0:\n",
    "        print('Buzz')\n",
    "    else:\n",
    "        print(num)"
   ]
  },
  {
   "cell_type": "markdown",
   "metadata": {},
   "source": [
    "# Exercise 8: Palindrome?\n",
    "\n",
    "A palindrome is a word which reads the same backward as forwards. Write a function that returns `True` if a string is a palindrome:\n",
    "```\n",
    "    “laval” ⇒ Yes\n",
    "    “montreal” ⇒ No\n",
    "```"
   ]
  },
  {
   "cell_type": "code",
   "execution_count": 77,
   "metadata": {},
   "outputs": [
    {
     "output_type": "stream",
     "name": "stdout",
     "text": [
      "True\nFalse\n"
     ]
    }
   ],
   "source": [
    "def palindrome(word):\n",
    "    for i in range(0, int(len(word)/2)):\n",
    "        if word[i] != word[len(word)-i-1]:\n",
    "            return False\n",
    "    return True\n",
    "\n",
    "la = \"laval\"\n",
    "mo = \"montreal\"\n",
    "\n",
    "print(palindrome(la))\n",
    "print(palindrome(mo))\n"
   ]
  },
  {
   "cell_type": "markdown",
   "metadata": {},
   "source": [
    "# Exercise 9: Counting Country IDs\n",
    "\n",
    "We have a list of user IDS with identifiers of form “userid-COUNTRYID”. Calculate how many countries we have.\n",
    "\n",
    "Ex:\n",
    "```\n",
    "[gyhwefy7832ryyg-US, iu7ytf87gyuwef-CA, 98yfyg82t3r-US] -> {'US': 2, 'CA': 1}\n",
    "\n",
    "[gyhwefy7832ryyg-US, iu7ytf87gyuwef-CA, 98yfyg82t3r-US,\n",
    "    iuhsdf897y3righsfe-US, iushdf98h23ryg-IT, iuhdf9h32ryu9gf-IT,\n",
    "    IUufgh98y34-FR, 98yfdiuhdfbviuh8-UK\n",
    "] -> {'US': 3, 'CA': 1, \"IT\": 2, 'UK':1, 'FR':1}\n",
    "```"
   ]
  },
  {
   "cell_type": "code",
   "execution_count": 144,
   "metadata": {},
   "outputs": [
    {
     "output_type": "stream",
     "name": "stdout",
     "text": [
      "{'US': 3, 'CA': 1, 'IT': 2, 'FR': 1, 'UK': 1}\n"
     ]
    }
   ],
   "source": [
    "def string_last_2(str):\n",
    "    if len(str) < 2: \n",
    "        return ''\n",
    "    return str[-2:]\n",
    "\n",
    "def country_list(ste):\n",
    "    c = []\n",
    "    for i in ste: \n",
    "        c.append(string_last_2(i))\n",
    "    return dict((i, c.count(i)) for i in c)\n",
    "\n",
    "x = ['gyhwefy7832ryyg-US', 'iu7ytf87gyuwef-CA', '98yfyg82t3r-US',\n",
    "    'iuhsdf897y3righsfe-US', 'iushdf98h23ryg-IT', 'iuhdf9h32ryu9gf-IT',\n",
    "    'IUufgh98y34-FR', '98yfdiuhdfbviuh8-UK']\n",
    "\n",
    "x2 = print(country_list(x))\n",
    "\n",
    "\n",
    "\n",
    "\n"
   ]
  },
  {
   "cell_type": "markdown",
   "metadata": {},
   "source": [
    "# Exercise 10: Identifying top countries\n",
    "\n",
    "Using your solution to the problem above, write a function that returns the top 3 countries by number of users"
   ]
  },
  {
   "cell_type": "code",
   "execution_count": 175,
   "metadata": {},
   "outputs": [
    {
     "output_type": "stream",
     "name": "stdout",
     "text": [
      "[('US', 3), ('IT', 2), ('CA', 1)]\n"
     ]
    }
   ],
   "source": [
    "\n",
    "def top_countries(list):\n",
    "   result = country_list(list)\n",
    "   d = sorted(result.items(), key=lambda x: x[1], reverse=True)[:3]\n",
    "   print(d)\n",
    "top_countries(x)\n",
    "\n"
   ]
  },
  {
   "cell_type": "markdown",
   "metadata": {},
   "source": [
    "# Exercise 11: Century\n",
    "\n",
    "Write a function that takes a year and returns its corresponding century.\n",
    "\n",
    "### Examples\n",
    "\n",
    "```\n",
    "century_from_year(2005) ➞ 21\n",
    "\n",
    "century_from_year(1850) ➞ 19\n",
    "\n",
    "century_from_year(-332) ➞ -4\n",
    "\n",
    "century_from_year(55) ➞ 1\n",
    "\n",
    "century_from_year(-65) ➞ -1\n",
    "```"
   ]
  },
  {
   "cell_type": "code",
   "execution_count": 233,
   "metadata": {},
   "outputs": [
    {
     "output_type": "stream",
     "name": "stdout",
     "text": [
      "21\n19\n-4\n1\n-1\n"
     ]
    }
   ],
   "source": [
    "import math\n",
    "def centuryFromYear(year):\n",
    "    if year > 100:\n",
    "        return math.ceil(year/100) \n",
    "    elif year < 0:\n",
    "         return math.floor(year/100) \n",
    "    else:\n",
    "        return math.ceil(year/100)\n",
    "\n",
    "print(centuryFromYear(2005))\n",
    "print(centuryFromYear(1850))\n",
    "print(centuryFromYear(-332))\n",
    "print(centuryFromYear(55))\n",
    "print(centuryFromYear(-65))\n",
    "\n"
   ]
  },
  {
   "source": [
    "\n",
    "# Exercise 12: Grade school addition\n",
    "Write a function that, given two lists of integers, adds them as if they were two numbers. So 12 would be [1,2] and 2357 would be [2,3,5,7]\n",
    "\n"
   ],
   "cell_type": "markdown",
   "metadata": {}
  },
  {
   "cell_type": "code",
   "execution_count": 22,
   "metadata": {},
   "outputs": [
    {
     "output_type": "execute_result",
     "data": {
      "text/plain": [
       "'1000'"
      ]
     },
     "metadata": {},
     "execution_count": 22
    }
   ],
   "source": [
    "def school_addition(x,y):\n",
    "        maxlen = max(len(x), len(y))\n",
    "\n",
    "        #Normalize lengths\n",
    "        x = x.zfill(maxlen)\n",
    "        y = y.zfill(maxlen)\n",
    "\n",
    "        result = ''\n",
    "        carry = 0\n",
    "\n",
    "        for i in range(maxlen-1, -1, -1):\n",
    "            r = carry\n",
    "            r += 1 if x[i] == '1' else 0\n",
    "            r += 1 if y[i] == '1' else 0\n",
    "\n",
    "            result = ('1' if r % 2 == 1 else '0') + result\n",
    "            carry = 0 if r < 2 else 1       \n",
    "\n",
    "        if carry !=0 : result = '1' + result\n",
    "\n",
    "        return result.zfill(maxlen)\n",
    "\n",
    "school_addition('1','111')\n",
    "\n",
    "\n",
    "#    for position from last to first:\n",
    "#        add carry and digit from above sum\n",
    "#        add the new digit to the result\n",
    "\n",
    "\n",
    "\n"
   ]
  },
  {
   "cell_type": "markdown",
   "metadata": {},
   "source": [
    "# Exercise 13: Printing the pretty pyramid\n",
    "\n",
    "This pyramid is pretty!\n",
    "```\n",
    "* \n",
    "* * \n",
    "* * * \n",
    "* * * * \n",
    "* * * * * \n",
    "* * * * * * \n",
    "* * * * * \n",
    "* * * * \n",
    "* * * \n",
    "* * \n",
    "* \n",
    "```\n",
    "\n",
    "Let's celebrate that.\n",
    "\n",
    "Given a number of rows, print a sideways pyramid with this number of \"levels\" on each side. For instance your function `pretty_pyramid(4)` would print out:\n",
    "\n",
    "```\n",
    "* \n",
    "* * \n",
    "* * * \n",
    "* * * * \n",
    "* * * \n",
    "* * \n",
    "* \n",
    "```\n",
    "\n",
    "And `pretty_pyramid(8)` would print out:\n",
    "\n",
    "```\n",
    "* \n",
    "* * \n",
    "* * * \n",
    "* * * * \n",
    "* * * * * \n",
    "* * * * * * \n",
    "* * * * * * * \n",
    "* * * * * * * * \n",
    "* * * * * * * \n",
    "* * * * * * \n",
    "* * * * * \n",
    "* * * * \n",
    "* * * \n",
    "* * \n",
    "* \n",
    "```"
   ]
  },
  {
   "cell_type": "code",
   "execution_count": 27,
   "metadata": {},
   "outputs": [
    {
     "output_type": "stream",
     "name": "stdout",
     "text": [
      "* \n* * \n* * * \n* * * * \n* * * \n* * \n* \n\n* \n* * \n* * * \n* * * * \n* * * * * \n* * * * * * \n* * * * * * * \n* * * * * * * * \n* * * * * * * \n* * * * * * \n* * * * * \n* * * * \n* * * \n* * \n* \n\n"
     ]
    }
   ],
   "source": [
    "\n",
    "def pyramid(rows):\n",
    "    for i in range(0, rows):\n",
    "            for j in range(0, i + 1):\n",
    "                print(\"*\", end=' ')\n",
    "            print(\"\\r\")\n",
    "    for i in range(rows, 0, -1):\n",
    "        for j in range(0, i - 1):\n",
    "            print(\"*\", end=' ')\n",
    "        print(\"\\r\")\n",
    "pyramid(4)\n",
    "pyramid(8)"
   ]
  },
  {
   "cell_type": "markdown",
   "metadata": {},
   "source": [
    "# Exercise 14: Lucky 7\n",
    "\n",
    "Return the sum of the numbers in an array, returning 0 for an empty array. \n",
    "\n",
    "The number 7 is “lucky”, therefore it does countdouble and the number that comes immediately after a 7 countstriple.\n",
    "\n",
    "```\n",
    "lucky_seven([1, 2, 4, 1]) → 8\n",
    "lucky_seven([1, 1]) → 2\n",
    "lucky_seven([1, 2, 2, 1, 7]) → 20\n",
    "lucky_seven([1, 2, 2, 1, 7, 3, 1]) → 30\n",
    "```\n"
   ]
  },
  {
   "cell_type": "code",
   "execution_count": 132,
   "metadata": {},
   "outputs": [
    {
     "output_type": "stream",
     "name": "stdout",
     "text": [
      "8\n2\n20\n30\n"
     ]
    }
   ],
   "source": [
    "def lucky_7(nums):\n",
    "\n",
    "    if len(nums) == 0:\n",
    "        return 0\n",
    "\n",
    "    for i in range(0, len(nums)):\n",
    "        if nums[i] == 7:\n",
    "            nums[i] = nums[i]*2\n",
    "            if i+1 < len(nums): \n",
    "                nums[i+1] = nums[i+1]*3        \n",
    "    return sum(nums)\n",
    "\n",
    "print(lucky_7([1, 2, 4, 1]))\n",
    "print(lucky_7([1, 1]))\n",
    "print(lucky_7([1, 2, 2, 1, 7]))\n",
    "print(lucky_7([1, 2, 2, 1, 7, 3, 1]))"
   ]
  },
  {
   "cell_type": "markdown",
   "metadata": {},
   "source": [
    "# Exercise 15: Pascal's Triangle\n",
    "\n",
    "[Pascals Triangle](https://en.wikipedia.org/wiki/Pascal%27s_triangle) is a mathematical structure that's important in statistics and [combinatorics](https://en.wikipedia.org/wiki/Combinatorics). It starts with the number 1 and expands as a pyramid where a number is the sum of it's diagonal neighbors on the row above it.\n",
    "\n",
    "It looks like this (you can find more examples in the links):\n",
    "\n",
    "```\n",
    "                 1\n",
    "               1   1\n",
    "             1   2   1\n",
    "           1   3   3   1\n",
    "         1   4   6   4   1\n",
    "       1   5   10   10   5   1\n",
    "     1   6   15   20   15   6   1\n",
    "   1   7   21   35   35   21   7   1\n",
    "```\n",
    "\n",
    "Write a function that given an integer (the number of rows) prints out pascal's triangle up to the specified row. Example:\n",
    "\n",
    "```\n",
    "pascal_triangle(8)\n",
    "```\n",
    "out:\n",
    "```\n",
    "                 1\n",
    "\n",
    "               1   1\n",
    "\n",
    "             1   2   1\n",
    "\n",
    "           1   3   3   1\n",
    "\n",
    "         1   4   6   4   1\n",
    "\n",
    "       1   5   10   10   5   1\n",
    "\n",
    "     1   6   15   20   15   6   1\n",
    "\n",
    "   1   7   21   35   35   21   7   1\n",
    "\n",
    "```\n",
    "Another example\n",
    "\n",
    "```\n",
    "pascal_triangle(3)\n",
    "```\n",
    "out:\n",
    "```\n",
    "                 1\n",
    "\n",
    "               1   1\n",
    "\n",
    "             1   2   1\n",
    "\n",
    "```"
   ]
  },
  {
   "cell_type": "code",
   "execution_count": 121,
   "metadata": {},
   "outputs": [
    {
     "output_type": "stream",
     "name": "stdout",
     "text": [
      "              1\n           1     1\n        1     2     1\nNone\n                             1\n                          1     1\n                       1     2     1\n                    1     3     3     1\n                 1     4     6     4     1\n              1     5    10    10     5     1\n           1     6    15    20    15     6     1\n        1     7    21    35    35    21     7     1\nNone\n"
     ]
    }
   ],
   "source": [
    "def Pascal_Triangle(n):\n",
    "    a = []\n",
    "    for i in range(n):\n",
    "        a.append([])\n",
    "        a[i].append(1)\n",
    "        for j in range(1,i):\n",
    "            a[i].append(a[i-1][j-1]+a[i-1][j])\n",
    "        if(n!=0):\n",
    "            a[i].append(1)\n",
    "    for i in range(n):\n",
    "        print(\"   \"*(n-i),end=\"\",sep=\"\")\n",
    "        for j in range(0,i+1):\n",
    "            print('{0:6}'.format(a[i][j]),end=\"\",sep=\"\")\n",
    "        print()\n",
    "\n",
    "print(Pascal_Triangle(3))\n",
    "print(Pascal_Triangle(8))"
   ]
  }
 ]
}