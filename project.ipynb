{
 "cells": [
  {
   "cell_type": "code",
   "execution_count": 32,
   "metadata": {},
   "outputs": [
    {
     "name": "stdout",
     "output_type": "stream",
     "text": [
      "False\n",
      "False\n",
      "True\n"
     ]
    }
   ],
   "source": [
    "dict = { \"a\": 44, \"b\": 45, \"c\": 46 }\n",
    "dict1= { \"craves\": True, \"midnight\": True, \"snack\": True }\n",
    "dict2= { \"pot\": 1, \"tot\": 2, \"not\": 3 }\n",
    "print('d' in dict)\n",
    "print('morning' in dict1)\n",
    "print('not' in dict2)\n"
   ]
  },
  {
   "cell_type": "code",
   "execution_count": 12,
   "metadata": {},
   "outputs": [
    {
     "name": "stdout",
     "output_type": "stream",
     "text": [
      "Enter a string : Fahd et dounia\n",
      "Fa\n"
     ]
    }
   ],
   "source": [
    "str = input(\"Enter a string : \")\n",
    "new_str =  str[0]+str[-1:] \n",
    "print(new_str)"
   ]
  },
  {
   "cell_type": "code",
   "execution_count": 41,
   "metadata": {},
   "outputs": [
    {
     "data": {
      "text/plain": [
       "[[1, 3], [2, 1], [3, 2], [4, 1], [5, 2]]"
      ]
     },
     "execution_count": 41,
     "metadata": {},
     "output_type": "execute_result"
    }
   ],
   "source": [
    ">>> l = [1, 3, 2, 1, 5, 3, 5, 1, 4]\n",
    ">>> [[x,l.count(x)] for x in set(l)]\n"
   ]
  },
  {
   "cell_type": "code",
   "execution_count": 42,
   "metadata": {},
   "outputs": [
    {
     "name": "stdout",
     "output_type": "stream",
     "text": [
      "True\n",
      "False\n"
     ]
    }
   ],
   "source": [
    "def test_distinct(data):\n",
    "  if len(data) == len(set(data)):\n",
    "    return True\n",
    "  else:\n",
    "    return False;\n",
    "print(test_distinct([2,3,4,5,7,8]))\n",
    "print(test_distinct([2,3,4,5,8,8]))"
   ]
  },
  {
   "cell_type": "code",
   "execution_count": 60,
   "metadata": {},
   "outputs": [
    {
     "name": "stdout",
     "output_type": "stream",
     "text": [
      "Input number of months:\n",
      "7\n",
      "Amount of debt: $ 144000\n"
     ]
    }
   ],
   "source": [
    "def round_n(n):\n",
    "    if n%1000:\n",
    "        return (1+n//1000)*1000\n",
    "    else:\n",
    "        return n\n",
    "     \n",
    "def compute_debt(n):\n",
    "    if n==0: return 100000\n",
    "    return int(round_n(compute_debt(n-1)*1.05))\n",
    "\n",
    "print(\"Input number of months:\")\n",
    "result = compute_debt(int(input()))\n",
    "print(\"Amount of debt: $\",  (result))"
   ]
  },
  {
   "cell_type": "code",
   "execution_count": 21,
   "metadata": {},
   "outputs": [
    {
     "name": "stdout",
     "output_type": "stream",
     "text": [
      "cat, blue, sat, umbrella, daddy\n"
     ]
    }
   ],
   "source": [
    "from textblob import TextBlob \n",
    "  \n",
    "gfg = TextBlob(\"cat, blue, skt, umbrells, paddy\") \n",
    "  \n",
    "# using TextBlob.correct() method \n",
    "gfg = gfg.correct() \n",
    "  \n",
    "print(gfg) "
   ]
  },
  {
   "cell_type": "code",
   "execution_count": 48,
   "metadata": {},
   "outputs": [
    {
     "name": "stdout",
     "output_type": "stream",
     "text": [
      "['1', '2', 'Fizz', '4', 'Buzz', 'Fizz', '7', '8', 'Fizz', 'Buzz', '11', 'Fizz', '13', '14', 'FizzBuzz', '16', '17', 'Fizz', '19', 'Buzz', 'Fizz', '22', '23', 'Fizz', 'Buzz', '26', 'Fizz', '28', '29', 'FizzBuzz', '31', '32', 'Fizz', '34', 'Buzz', 'Fizz', '37', '38', 'Fizz', 'Buzz', '41', 'Fizz', '43', '44', 'FizzBuzz', '46', '47', 'Fizz', '49', 'Buzz', 'Fizz', '52', '53', 'Fizz', 'Buzz', '56', 'Fizz', '58', '59', 'FizzBuzz', '61', '62', 'Fizz', '64', 'Buzz', 'Fizz', '67', '68', 'Fizz', 'Buzz', '71', 'Fizz', '73', '74', 'FizzBuzz', '76', '77', 'Fizz', '79', 'Buzz', 'Fizz', '82', '83', 'Fizz', 'Buzz', '86', 'Fizz', '88', '89', 'FizzBuzz', '91', '92', 'Fizz', '94', 'Buzz', 'Fizz', '97', '98', 'Fizz', 'Buzz', '101', 'Fizz', '103', '104', 'FizzBuzz', '106', '107', 'Fizz', '109', 'Buzz', 'Fizz', '112', '113', 'Fizz', 'Buzz', '116', 'Fizz', '118', '119', 'FizzBuzz', '121', '122', 'Fizz', '124', 'Buzz', 'Fizz', '127', '128', 'Fizz', 'Buzz', '131', 'Fizz', '133', '134', 'FizzBuzz', '136', '137', 'Fizz', '139', 'Buzz', 'Fizz', '142', '143', 'Fizz', 'Buzz', '146', 'Fizz', '148', '149', 'FizzBuzz']\n"
     ]
    }
   ],
   "source": [
    "   def fizzBuzz(self, n):\n",
    "      \"\"\"\n",
    "      :type n: int\n",
    "      :rtype: List[str]\n",
    "      \"\"\"\n",
    "      result = []\n",
    "      for i in range(1,n+1):\n",
    "         if i% 3== 0 and i%5==0:\n",
    "            result.append(\"FizzBuzz\")\n",
    "         elif i %3==0:\n",
    "            result.append(\"Fizz\")\n",
    "         elif i% 5 == 0:\n",
    "            result.append(\"Buzz\")\n",
    "         else:\n",
    "            result.append(str(i))\n",
    "      return result\n",
    "print(fizzBuzz(1,150))"
   ]
  },
  {
   "cell_type": "code",
   "execution_count": 52,
   "metadata": {},
   "outputs": [
    {
     "name": "stdout",
     "output_type": "stream",
     "text": [
      "enter a textere\n",
      "the string is a palindrome\n"
     ]
    }
   ],
   "source": [
    "string= input(\"enter a text\")\n",
    "if(string==string[::-1]):\n",
    "    print(\"the string is a palindrome\")\n",
    "else:\n",
    "    print(\"the string is not a palindrome\")"
   ]
  },
  {
   "cell_type": "code",
   "execution_count": 167,
   "metadata": {},
   "outputs": [
    {
     "name": "stdout",
     "output_type": "stream",
     "text": [
      "UU\n"
     ]
    }
   ],
   "source": [
    ">>> l = [\"gyhwefy7832ryyg-US\", \"iu7ytf87gyuwef-CA\", \"98yfyg82t3r-US\"]\n",
    ">>> [[x.split(\"-\"),l.count(x.split(\"-\"))] for x in set(l)]\n",
    "import re\n",
    "l = [\"gyhwefy7832ryyg-US, iu7ytf87gyuwef-CA, 98yfyg82t3r-US\"]\n",
    "t=[[x.split(\",\")] for x in set(l)]\n",
    "print(x)"
   ]
  },
  {
   "cell_type": "code",
   "execution_count": 166,
   "metadata": {},
   "outputs": [
    {
     "name": "stdout",
     "output_type": "stream",
     "text": [
      "21\n"
     ]
    }
   ],
   "source": [
    "def centuryFromYear(year):\n",
    "    return (year) // 100 + 1    \n",
    "\"\"\"# 1 because 2017 is 21st century, and 1989 = 20th century\n",
    "\"\"\"\n",
    "print(centuryFromYear(2017))"
   ]
  },
  {
   "cell_type": "code",
   "execution_count": 174,
   "metadata": {},
   "outputs": [
    {
     "name": "stdout",
     "output_type": "stream",
     "text": [
      "Original List:  [11, 33, 50]\n",
      "115707\n"
     ]
    }
   ],
   "source": [
    "L = [11, 33, 50]\n",
    "T= [2,3,5,7]\n",
    "print(\"Original List: \",L)\n",
    "x = int(\"\".join(map(str, L)))\n",
    "y= int(\"\".join(map(str, T)))\n",
    "print(x+y)"
   ]
  },
  {
   "cell_type": "code",
   "execution_count": null,
   "metadata": {},
   "outputs": [],
   "source": [
    "n = 0\n",
    "r = 12\n",
    "for m in range(1, r+1):\n",
    "   for gap in range(1, (r-m)+1):\n",
    "      print(end=\" \")\n",
    "   while n != (2*m-1):\n",
    "      print(\"*\", end=\"\")\n",
    "      n = n + 1\n",
    "   n = 0\n",
    "   print()"
   ]
  }
 ],
 "metadata": {
  "kernelspec": {
   "display_name": "Python 3",
   "language": "python",
   "name": "python3"
  },
  "language_info": {
   "codemirror_mode": {
    "name": "ipython",
    "version": 3
   },
   "file_extension": ".py",
   "mimetype": "text/x-python",
   "name": "python",
   "nbconvert_exporter": "python",
   "pygments_lexer": "ipython3",
   "version": "3.8.3"
  }
 },
 "nbformat": 4,
 "nbformat_minor": 4
}
