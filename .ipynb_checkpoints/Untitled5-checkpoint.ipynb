{
 "cells": [
  {
   "cell_type": "code",
   "execution_count": 72,
   "metadata": {},
   "outputs": [
    {
     "name": "stdout",
     "output_type": "stream",
     "text": [
      "* \r\n",
      "* * \r\n",
      "* * * \r\n",
      "* * * * \r\n",
      "* * * * * \r\n",
      "* * * * * * \r\n",
      "* * * * * * * \r\n"
     ]
    }
   ],
   "source": [
    "def triangle(n): \n",
    "    \n",
    "    #number of spaces \n",
    "    k = 1 \n",
    "    # outer loop handle number of rows\n",
    "    for i in range (0, ((2*n)-1)):\n",
    "        \n",
    "        #inner loop to handle number of spaces\n",
    "        #values changing acc. to requirement \n",
    "        for j in range(0,k):\n",
    "            print(end=\"\")\n",
    "        #decrementing k after each loop\n",
    "        #k = k + 1\n",
    "\n",
    "        #Need to then decrement once I reached the nth row.\n",
    "        \n",
    "        #inner loop to handle number of columns\n",
    "        #Values changing acc. to outer loop\n",
    "        for j in range(0,i+1):\n",
    "            #printing stars\n",
    "            print(\"* \", end=\"\")\n",
    "\n",
    "       \n",
    "        #ending line after each row\n",
    "        print(\"\\r\")\n",
    "\n",
    "#Driver code\n",
    "n = 4\n",
    "triangle(n)\n",
    "    "
   ]
  },
  {
   "cell_type": "code",
   "execution_count": null,
   "metadata": {},
   "outputs": [],
   "source": []
  },
  {
   "cell_type": "code",
   "execution_count": null,
   "metadata": {},
   "outputs": [],
   "source": []
  },
  {
   "cell_type": "code",
   "execution_count": null,
   "metadata": {},
   "outputs": [],
   "source": []
  },
  {
   "cell_type": "code",
   "execution_count": null,
   "metadata": {},
   "outputs": [],
   "source": []
  },
  {
   "cell_type": "code",
   "execution_count": null,
   "metadata": {},
   "outputs": [],
   "source": []
  },
  {
   "cell_type": "code",
   "execution_count": 102,
   "metadata": {},
   "outputs": [
    {
     "data": {
      "text/plain": [
       "[1, 7, 1, 7, 7, None]"
      ]
     },
     "execution_count": 102,
     "metadata": {},
     "output_type": "execute_result"
    }
   ],
   "source": [
    "def lucky_seven(int_list):\n",
    "    for index, item in enumerate(int_list):\n",
    "        if item == 7:\n",
    "            int_list.append(7)\n",
    "        else:\n",
    "            int_list.append(None)\n",
    "        return int_list\n",
    "    \n",
    "    \n",
    "    print(sum(int_list))\n",
    "\n",
    "lucky_seven([1, 7, 1, 7, 7])\n",
    "\n",
    "\n",
    " #for index in indexes:\n",
    "        \n",
    "    #for index, item in enumerate(int_list):\n",
    "    #   if item == 14:\n",
    "    #        int_list[index + 1 ] = (item* 3)\n",
    "\n",
    "#declare a new variable and call it factor \n",
    "#if last_item == , factor this item *3\n",
    "#if item == 7, factor this item *2\n",
    "#else, factor = 1\n",
    "#sum = sum + item*factor\n",
    "\n"
   ]
  },
  {
   "cell_type": "code",
   "execution_count": 93,
   "metadata": {},
   "outputs": [
    {
     "name": "stdout",
     "output_type": "stream",
     "text": [
      "[]\n"
     ]
    }
   ],
   "source": [
    "int_list=[1, 7, 1, 7, 7]\n",
    "indices = [i for i, x in enumerate(int_list) if x == \"7\"]\n",
    "print(indices)"
   ]
  },
  {
   "cell_type": "code",
   "execution_count": 98,
   "metadata": {},
   "outputs": [
    {
     "data": {
      "text/plain": [
       "[1, 3, 4]"
      ]
     },
     "execution_count": 98,
     "metadata": {},
     "output_type": "execute_result"
    }
   ],
   "source": [
    "def indices(lst, element):\n",
    "    result = []\n",
    "    offset = -1\n",
    "    while True:\n",
    "        try:\n",
    "            offset = lst.index(element, offset+1)\n",
    "        except ValueError:\n",
    "            return result\n",
    "        result.append(offset)\n",
    "    print(result)\n",
    "\n",
    "lst=[1, 7, 1, 7, 7]\n",
    "element=7\n",
    "\n",
    "indices(lst,element)"
   ]
  },
  {
   "cell_type": "code",
   "execution_count": 104,
   "metadata": {},
   "outputs": [
    {
     "name": "stdout",
     "output_type": "stream",
     "text": [
      "Ingredients in my salsa: ['hot peppers', 'onions', 'cilantro', 'tomatoes']\n"
     ]
    }
   ],
   "source": [
    "salsa = ['peppers', 'onions', 'cilantro', 'tomatoes']\n",
    "my_salsa = list(salsa)        # <-- makes a *copy* of the list\n",
    "salsa[0] = 'hot peppers'\n",
    "print('Ingredients in my salsa:', salsa)"
   ]
  },
  {
   "cell_type": "code",
   "execution_count": 105,
   "metadata": {},
   "outputs": [
    {
     "name": "stdout",
     "output_type": "stream",
     "text": [
      "20\n",
      "20\n",
      "20\n",
      "20\n"
     ]
    },
    {
     "ename": "IndexError",
     "evalue": "list assignment index out of range",
     "output_type": "error",
     "traceback": [
      "\u001b[0;31m---------------------------------------------------------------------------\u001b[0m",
      "\u001b[0;31mIndexError\u001b[0m                                Traceback (most recent call last)",
      "\u001b[0;32m<ipython-input-105-cfc76b0ac17f>\u001b[0m in \u001b[0;36m<module>\u001b[0;34m\u001b[0m\n\u001b[1;32m     10\u001b[0m         \u001b[0mprint\u001b[0m\u001b[0;34m(\u001b[0m\u001b[0msum\u001b[0m\u001b[0;34m(\u001b[0m\u001b[0mint_list\u001b[0m\u001b[0;34m)\u001b[0m\u001b[0;34m)\u001b[0m\u001b[0;34m\u001b[0m\u001b[0;34m\u001b[0m\u001b[0m\n\u001b[1;32m     11\u001b[0m \u001b[0;34m\u001b[0m\u001b[0m\n\u001b[0;32m---> 12\u001b[0;31m \u001b[0mlucky_seven\u001b[0m\u001b[0;34m(\u001b[0m\u001b[0;34m[\u001b[0m\u001b[0;36m1\u001b[0m\u001b[0;34m,\u001b[0m \u001b[0;36m2\u001b[0m\u001b[0;34m,\u001b[0m \u001b[0;36m2\u001b[0m\u001b[0;34m,\u001b[0m \u001b[0;36m1\u001b[0m\u001b[0;34m,\u001b[0m \u001b[0;36m7\u001b[0m\u001b[0;34m]\u001b[0m\u001b[0;34m)\u001b[0m\u001b[0;34m\u001b[0m\u001b[0;34m\u001b[0m\u001b[0m\n\u001b[0m",
      "\u001b[0;32m<ipython-input-105-cfc76b0ac17f>\u001b[0m in \u001b[0;36mlucky_seven\u001b[0;34m(int_list)\u001b[0m\n\u001b[1;32m      7\u001b[0m             \u001b[0;31m#This works...on the right side..I need to plug in the original val (1) in that index rather than the 14\u001b[0m\u001b[0;34m\u001b[0m\u001b[0;34m\u001b[0m\u001b[0;34m\u001b[0m\u001b[0m\n\u001b[1;32m      8\u001b[0m             \u001b[0;31m#and something to end the program if returns out of range rather than error\u001b[0m\u001b[0;34m\u001b[0m\u001b[0;34m\u001b[0m\u001b[0;34m\u001b[0m\u001b[0m\n\u001b[0;32m----> 9\u001b[0;31m             \u001b[0mint_list\u001b[0m\u001b[0;34m[\u001b[0m\u001b[0mindex\u001b[0m \u001b[0;34m+\u001b[0m \u001b[0;36m1\u001b[0m\u001b[0;34m]\u001b[0m \u001b[0;34m=\u001b[0m \u001b[0;34m(\u001b[0m\u001b[0;36m3\u001b[0m\u001b[0;34m*\u001b[0m \u001b[0;36m3\u001b[0m\u001b[0;34m)\u001b[0m\u001b[0;34m\u001b[0m\u001b[0;34m\u001b[0m\u001b[0m\n\u001b[0m\u001b[1;32m     10\u001b[0m         \u001b[0mprint\u001b[0m\u001b[0;34m(\u001b[0m\u001b[0msum\u001b[0m\u001b[0;34m(\u001b[0m\u001b[0mint_list\u001b[0m\u001b[0;34m)\u001b[0m\u001b[0;34m)\u001b[0m\u001b[0;34m\u001b[0m\u001b[0;34m\u001b[0m\u001b[0m\n\u001b[1;32m     11\u001b[0m \u001b[0;34m\u001b[0m\u001b[0m\n",
      "\u001b[0;31mIndexError\u001b[0m: list assignment index out of range"
     ]
    }
   ],
   "source": [
    "def lucky_seven(int_list):\n",
    "    for index, item in enumerate(int_list):\n",
    "        if item == 7:\n",
    "            int_list[index] = 14        \n",
    "    for index, item in enumerate(int_list):\n",
    "        if item == 14:\n",
    "            #This works...on the right side..I need to plug in the original val (1) in that index rather than the 14\n",
    "            #and something to end the program if returns out of range rather than error\n",
    "            int_list[index + 1] = (3* 3)\n",
    "        print(sum(int_list))\n",
    "\n",
    "lucky_seven([1, 2, 2, 1, 7])"
   ]
  },
  {
   "cell_type": "code",
   "execution_count": 113,
   "metadata": {},
   "outputs": [
    {
     "data": {
      "text/plain": [
       "'e'"
      ]
     },
     "execution_count": 113,
     "metadata": {},
     "output_type": "execute_result"
    }
   ],
   "source": [
    "a = lambda x: x[-1]\n",
    "\n",
    "a('the')"
   ]
  },
  {
   "cell_type": "code",
   "execution_count": 108,
   "metadata": {},
   "outputs": [
    {
     "data": {
      "text/plain": [
       "'h'"
      ]
     },
     "execution_count": 108,
     "metadata": {},
     "output_type": "execute_result"
    }
   ],
   "source": [
    "def element_1(x):\n",
    "    return x[1]\n",
    "\n",
    "\n",
    "element_1('the')"
   ]
  },
  {
   "cell_type": "code",
   "execution_count": null,
   "metadata": {},
   "outputs": [],
   "source": [
    "def top_3(n, cntry_dict):\n",
    "    '''returns the value from a country:frequency dict'''\n",
    "    lot = [(k,v) for k, v in cntry_id(cntry_lst).items()] #creates tuples with dict key, vals\n",
    "    nl = []\n",
    "    while len(lot) > 0:\n",
    "        nl.append(max(lot, key=lambda x: x[1]))\n",
    "        #def element_1(x):\n",
    "            #return x[1]\n",
    "        #so lambda makes key=element_1\n",
    "        #Lambda is anonymous function...seems like f(x) in math\n",
    "        lot.remove(nl[-1])\n",
    "    print(nl)\n",
    "   \n",
    "top_3(3, cntry_id(cntry_lst))"
   ]
  },
  {
   "cell_type": "code",
   "execution_count": null,
   "metadata": {},
   "outputs": [],
   "source": [
    "key=lambda x: x[1]\n",
    "\n",
    "key=element1\n",
    "\n",
    "def element1(x):\n",
    "    return x[1]\n",
    "\n",
    "key=element1"
   ]
  }
 ],
 "metadata": {
  "kernelspec": {
   "display_name": "Python 3",
   "language": "python",
   "name": "python3"
  },
  "language_info": {
   "codemirror_mode": {
    "name": "ipython",
    "version": 3
   },
   "file_extension": ".py",
   "mimetype": "text/x-python",
   "name": "python",
   "nbconvert_exporter": "python",
   "pygments_lexer": "ipython3",
   "version": "3.8.3"
  }
 },
 "nbformat": 4,
 "nbformat_minor": 4
}
