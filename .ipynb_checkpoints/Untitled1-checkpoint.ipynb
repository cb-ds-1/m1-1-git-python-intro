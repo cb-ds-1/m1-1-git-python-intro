{
 "cells": [
  {
   "cell_type": "code",
   "execution_count": 83,
   "metadata": {},
   "outputs": [
    {
     "name": "stdout",
     "output_type": "stream",
     "text": [
      "True\n",
      "True\n",
      "True\n",
      "True\n",
      "True\n",
      "True\n",
      "True\n",
      "True\n",
      "True\n",
      "True\n",
      "True\n",
      "True\n"
     ]
    }
   ],
   "source": [
    "def test_distinc(num_lst):\n",
    "    num_set = set(num_lst)\n",
    "    if len(num_lst) != len(num_set):\n",
    "        print('False')\n",
    "    else:\n",
    "        print('True')\n",
    "        \n",
    "test_distinct([2,3,4,5,7,8])\n",
    "test_distinct([2,3,4,5,8,8])"
   ]
  },
  {
   "cell_type": "code",
   "execution_count": 82,
   "metadata": {},
   "outputs": [
    {
     "name": "stdout",
     "output_type": "stream",
     "text": [
      "{2, 3, 4, 5, 8}\n"
     ]
    }
   ],
   "source": [
    "nlst = [2,3,4,5,8,8]\n",
    "\n",
    "nset = set(nlst)\n",
    "print(nset)\n",
    "\n"
   ]
  },
  {
   "cell_type": "code",
   "execution_count": 93,
   "metadata": {},
   "outputs": [],
   "source": [
    "import math"
   ]
  },
  {
   "cell_type": "code",
   "execution_count": 95,
   "metadata": {},
   "outputs": [
    {
     "data": {
      "text/plain": [
       "5"
      ]
     },
     "execution_count": 95,
     "metadata": {},
     "output_type": "execute_result"
    }
   ],
   "source": [
    "math.ceil(4.2)"
   ]
  },
  {
   "cell_type": "code",
   "execution_count": 96,
   "metadata": {},
   "outputs": [],
   "source": [
    "math.ceil?"
   ]
  },
  {
   "cell_type": "code",
   "execution_count": null,
   "metadata": {},
   "outputs": [],
   "source": []
  },
  {
   "cell_type": "code",
   "execution_count": 108,
   "metadata": {},
   "outputs": [
    {
     "name": "stdout",
     "output_type": "stream",
     "text": [
      "0\n",
      "1\n",
      "0\n"
     ]
    }
   ],
   "source": [
    "stringlist = [\"252.007\", \"546.658\", \"252.108\"]\n",
    "paramvalue = [\"252.017\", \"546.658\", \"252.008\"]\n",
    "\n",
    "def comparelist(l1, l2):\n",
    "    return[i == j for i, j in zip(l1, l2)]\n",
    "k=(comparelist(stringlist, paramvalue))\n",
    "for i in k:\n",
    "    if i == False:\n",
    "        print(0)\n",
    "    else:\n",
    "        print(1)\n",
    "\n"
   ]
  },
  {
   "cell_type": "code",
   "execution_count": 124,
   "metadata": {},
   "outputs": [
    {
     "ename": "IndentationError",
     "evalue": "expected an indented block (<ipython-input-124-da7165056842>, line 9)",
     "output_type": "error",
     "traceback": [
      "\u001b[0;36m  File \u001b[0;32m\"<ipython-input-124-da7165056842>\"\u001b[0;36m, line \u001b[0;32m9\u001b[0m\n\u001b[0;31m    print(correct_stream(usr,cor))\u001b[0m\n\u001b[0m                                  ^\u001b[0m\n\u001b[0;31mIndentationError\u001b[0m\u001b[0;31m:\u001b[0m expected an indented block\n"
     ]
    }
   ],
   "source": [
    "usr = [\"cat\", \"blue\", \"skt\", \"umbrells\", \"paddy\"]\n",
    "cor = [\"cat\", \"blue\", \"sky\", \"umbrella\", \"paddy\"]\n",
    "\n",
    "def correct_stream(l1,l2):\n",
    "    for i, j in zip(l1,l2):\n",
    "        if i==j:\n",
    "            \n",
    "\n",
    "print(correct_stream(usr,cor))\n",
    "\n"
   ]
  },
  {
   "cell_type": "code",
   "execution_count": 133,
   "metadata": {},
   "outputs": [
    {
     "ename": "UnboundLocalError",
     "evalue": "local variable 'i' referenced before assignment",
     "output_type": "error",
     "traceback": [
      "\u001b[0;31m---------------------------------------------------------------------------\u001b[0m",
      "\u001b[0;31mUnboundLocalError\u001b[0m                         Traceback (most recent call last)",
      "\u001b[0;32m<ipython-input-133-d6f0803b9d96>\u001b[0m in \u001b[0;36m<module>\u001b[0;34m\u001b[0m\n\u001b[1;32m      9\u001b[0m             \u001b[0mprint\u001b[0m\u001b[0;34m(\u001b[0m\u001b[0;32mFalse\u001b[0m\u001b[0;34m)\u001b[0m\u001b[0;34m\u001b[0m\u001b[0;34m\u001b[0m\u001b[0m\n\u001b[1;32m     10\u001b[0m \u001b[0;34m\u001b[0m\u001b[0m\n\u001b[0;32m---> 11\u001b[0;31m \u001b[0mcorrect_stream\u001b[0m\u001b[0;34m(\u001b[0m\u001b[0musr\u001b[0m\u001b[0;34m,\u001b[0m \u001b[0mcor\u001b[0m\u001b[0;34m)\u001b[0m\u001b[0;34m\u001b[0m\u001b[0;34m\u001b[0m\u001b[0m\n\u001b[0m\u001b[1;32m     12\u001b[0m \u001b[0;34m\u001b[0m\u001b[0m\n",
      "\u001b[0;32m<ipython-input-133-d6f0803b9d96>\u001b[0m in \u001b[0;36mcorrect_stream\u001b[0;34m(l1, l2)\u001b[0m\n\u001b[1;32m      3\u001b[0m \u001b[0;34m\u001b[0m\u001b[0m\n\u001b[1;32m      4\u001b[0m \u001b[0;32mdef\u001b[0m \u001b[0mcorrect_stream\u001b[0m\u001b[0;34m(\u001b[0m\u001b[0ml1\u001b[0m\u001b[0;34m,\u001b[0m\u001b[0ml2\u001b[0m\u001b[0;34m)\u001b[0m\u001b[0;34m:\u001b[0m\u001b[0;34m\u001b[0m\u001b[0;34m\u001b[0m\u001b[0m\n\u001b[0;32m----> 5\u001b[0;31m     \u001b[0;32mif\u001b[0m \u001b[0mi\u001b[0m \u001b[0;34m==\u001b[0m \u001b[0mj\u001b[0m\u001b[0;34m:\u001b[0m\u001b[0;34m\u001b[0m\u001b[0;34m\u001b[0m\u001b[0m\n\u001b[0m\u001b[1;32m      6\u001b[0m         \u001b[0;32mfor\u001b[0m \u001b[0mi\u001b[0m\u001b[0;34m,\u001b[0m\u001b[0mj\u001b[0m \u001b[0;32min\u001b[0m \u001b[0mzip\u001b[0m\u001b[0;34m(\u001b[0m\u001b[0ml1\u001b[0m\u001b[0;34m,\u001b[0m\u001b[0ml2\u001b[0m\u001b[0;34m)\u001b[0m\u001b[0;34m:\u001b[0m\u001b[0;34m\u001b[0m\u001b[0;34m\u001b[0m\u001b[0m\n\u001b[1;32m      7\u001b[0m             \u001b[0mprint\u001b[0m\u001b[0;34m(\u001b[0m\u001b[0;32mTrue\u001b[0m\u001b[0;34m)\u001b[0m\u001b[0;34m\u001b[0m\u001b[0;34m\u001b[0m\u001b[0m\n",
      "\u001b[0;31mUnboundLocalError\u001b[0m: local variable 'i' referenced before assignment"
     ]
    }
   ],
   "source": [
    "usr = [\"cat\", \"blue\", \"skt\", \"umbrells\", \"paddy\"]\n",
    "cor = [\"cat\", \"blue\", \"sky\", \"umbrella\", \"paddy\"]\n",
    "\n",
    "def correct_stream(l1,l2):\n",
    "    if i == j:\n",
    "        for i,j in zip(l1,l2):\n",
    "            print(True)\n",
    "        else: \n",
    "            print(False)\n",
    "\n",
    "correct_stream(usr, cor)            \n",
    "\n"
   ]
  },
  {
   "cell_type": "code",
   "execution_count": 136,
   "metadata": {},
   "outputs": [
    {
     "name": "stdout",
     "output_type": "stream",
     "text": [
      "[3, 5, 7, 9, 11, 13]\n"
     ]
    }
   ],
   "source": [
    "num = []\n",
    "for i in range(3, 15, 2):\n",
    "    num.append(i)\n",
    "print(num)"
   ]
  },
  {
   "cell_type": "code",
   "execution_count": 241,
   "metadata": {},
   "outputs": [
    {
     "name": "stdout",
     "output_type": "stream",
     "text": [
      "[1, 1, 0, 0, 1]\n"
     ]
    }
   ],
   "source": [
    "def correct_stream(l1,l2):\n",
    "    same = []\n",
    "    for u, c in zip(l1,l2):\n",
    "        if u==c:\n",
    "            same.append(1)\n",
    "        else:\n",
    "            same.append(0)           \n",
    "      \n",
    "    print(same)\n",
    "correct_stream(usr,cor)\n",
    "\n",
    "usr = [\"cat\", \"blue\", \"skt\", \"umbrells\", \"paddy\"]\n",
    "cor = [\"cat\", \"blue\", \"sky\", \"umbrella\", \"paddy\"]\n"
   ]
  },
  {
   "cell_type": "code",
   "execution_count": 251,
   "metadata": {},
   "outputs": [
    {
     "name": "stdout",
     "output_type": "stream",
     "text": [
      "['with', 'three', 'words']\n",
      "3\n",
      "with\n",
      "['with', 'three', 'words']\n",
      "with\n",
      "three\n",
      "words\n"
     ]
    }
   ],
   "source": [
    "abc ='with three words'\n",
    "stuff = abc.split()\n",
    "print(stuff)\n",
    "\n",
    "print(len(stuff))\n",
    "\n",
    "print(stuff[0])\n",
    "\n",
    "print(stuff)\n",
    "\n",
    "for w in stuff:\n",
    "    print(w)"
   ]
  },
  {
   "cell_type": "code",
   "execution_count": 303,
   "metadata": {
    "scrolled": true
   },
   "outputs": [
    {
     "ename": "RecursionError",
     "evalue": "maximum recursion depth exceeded in comparison",
     "output_type": "error",
     "traceback": [
      "\u001b[0;31m---------------------------------------------------------------------------\u001b[0m",
      "\u001b[0;31mRecursionError\u001b[0m                            Traceback (most recent call last)",
      "\u001b[0;32m<ipython-input-303-4af062fb94f3>\u001b[0m in \u001b[0;36m<module>\u001b[0;34m\u001b[0m\n\u001b[1;32m     11\u001b[0m \u001b[0mcntry_lst\u001b[0m \u001b[0;34m=\u001b[0m \u001b[0;34m[\u001b[0m\u001b[0;34m'gyhwefy7832ryyg-US'\u001b[0m\u001b[0;34m,\u001b[0m \u001b[0;34m'iu7ytf87gyuwef-CA'\u001b[0m\u001b[0;34m,\u001b[0m \u001b[0;34m'98yfyg82t3r-US'\u001b[0m\u001b[0;34m]\u001b[0m\u001b[0;34m\u001b[0m\u001b[0;34m\u001b[0m\u001b[0m\n\u001b[1;32m     12\u001b[0m \u001b[0;34m\u001b[0m\u001b[0m\n\u001b[0;32m---> 13\u001b[0;31m \u001b[0mprint\u001b[0m\u001b[0;34m(\u001b[0m\u001b[0msplit_id\u001b[0m\u001b[0;34m(\u001b[0m\u001b[0mcntry_id\u001b[0m\u001b[0;34m(\u001b[0m\u001b[0mcntry_lst\u001b[0m\u001b[0;34m)\u001b[0m\u001b[0;34m)\u001b[0m\u001b[0;34m)\u001b[0m\u001b[0;34m\u001b[0m\u001b[0;34m\u001b[0m\u001b[0m\n\u001b[0m",
      "\u001b[0;32m<ipython-input-303-4af062fb94f3>\u001b[0m in \u001b[0;36msplit_id\u001b[0;34m(cntry_lst)\u001b[0m\n\u001b[1;32m      7\u001b[0m \u001b[0;32mdef\u001b[0m \u001b[0msplit_id\u001b[0m\u001b[0;34m(\u001b[0m\u001b[0mcntry_lst\u001b[0m\u001b[0;34m)\u001b[0m\u001b[0;34m:\u001b[0m\u001b[0;34m\u001b[0m\u001b[0;34m\u001b[0m\u001b[0m\n\u001b[1;32m      8\u001b[0m     \u001b[0;32mfor\u001b[0m \u001b[0mi\u001b[0m \u001b[0;32min\u001b[0m \u001b[0mrange\u001b[0m \u001b[0;34m(\u001b[0m\u001b[0;36m0\u001b[0m\u001b[0;34m,\u001b[0m\u001b[0mlen\u001b[0m\u001b[0;34m(\u001b[0m\u001b[0mcntry_lst\u001b[0m\u001b[0;34m)\u001b[0m\u001b[0;34m,\u001b[0m\u001b[0;36m2\u001b[0m\u001b[0;34m)\u001b[0m\u001b[0;34m:\u001b[0m\u001b[0;34m\u001b[0m\u001b[0;34m\u001b[0m\u001b[0m\n\u001b[0;32m----> 9\u001b[0;31m         \u001b[0;32mreturn\u001b[0m \u001b[0mcntry_id\u001b[0m\u001b[0;34m(\u001b[0m\u001b[0msplit_id\u001b[0m\u001b[0;34m(\u001b[0m\u001b[0mcntry_lst\u001b[0m\u001b[0;34m[\u001b[0m\u001b[0mi\u001b[0m \u001b[0;34m:\u001b[0m \u001b[0mi\u001b[0m\u001b[0;34m+\u001b[0m\u001b[0;36m2\u001b[0m\u001b[0;34m]\u001b[0m\u001b[0;34m)\u001b[0m\u001b[0;34m)\u001b[0m\u001b[0;34m\u001b[0m\u001b[0;34m\u001b[0m\u001b[0m\n\u001b[0m\u001b[1;32m     10\u001b[0m \u001b[0;34m\u001b[0m\u001b[0m\n\u001b[1;32m     11\u001b[0m \u001b[0mcntry_lst\u001b[0m \u001b[0;34m=\u001b[0m \u001b[0;34m[\u001b[0m\u001b[0;34m'gyhwefy7832ryyg-US'\u001b[0m\u001b[0;34m,\u001b[0m \u001b[0;34m'iu7ytf87gyuwef-CA'\u001b[0m\u001b[0;34m,\u001b[0m \u001b[0;34m'98yfyg82t3r-US'\u001b[0m\u001b[0;34m]\u001b[0m\u001b[0;34m\u001b[0m\u001b[0;34m\u001b[0m\u001b[0m\n",
      "... last 1 frames repeated, from the frame below ...\n",
      "\u001b[0;32m<ipython-input-303-4af062fb94f3>\u001b[0m in \u001b[0;36msplit_id\u001b[0;34m(cntry_lst)\u001b[0m\n\u001b[1;32m      7\u001b[0m \u001b[0;32mdef\u001b[0m \u001b[0msplit_id\u001b[0m\u001b[0;34m(\u001b[0m\u001b[0mcntry_lst\u001b[0m\u001b[0;34m)\u001b[0m\u001b[0;34m:\u001b[0m\u001b[0;34m\u001b[0m\u001b[0;34m\u001b[0m\u001b[0m\n\u001b[1;32m      8\u001b[0m     \u001b[0;32mfor\u001b[0m \u001b[0mi\u001b[0m \u001b[0;32min\u001b[0m \u001b[0mrange\u001b[0m \u001b[0;34m(\u001b[0m\u001b[0;36m0\u001b[0m\u001b[0;34m,\u001b[0m\u001b[0mlen\u001b[0m\u001b[0;34m(\u001b[0m\u001b[0mcntry_lst\u001b[0m\u001b[0;34m)\u001b[0m\u001b[0;34m,\u001b[0m\u001b[0;36m2\u001b[0m\u001b[0;34m)\u001b[0m\u001b[0;34m:\u001b[0m\u001b[0;34m\u001b[0m\u001b[0;34m\u001b[0m\u001b[0m\n\u001b[0;32m----> 9\u001b[0;31m         \u001b[0;32mreturn\u001b[0m \u001b[0mcntry_id\u001b[0m\u001b[0;34m(\u001b[0m\u001b[0msplit_id\u001b[0m\u001b[0;34m(\u001b[0m\u001b[0mcntry_lst\u001b[0m\u001b[0;34m[\u001b[0m\u001b[0mi\u001b[0m \u001b[0;34m:\u001b[0m \u001b[0mi\u001b[0m\u001b[0;34m+\u001b[0m\u001b[0;36m2\u001b[0m\u001b[0;34m]\u001b[0m\u001b[0;34m)\u001b[0m\u001b[0;34m)\u001b[0m\u001b[0;34m\u001b[0m\u001b[0;34m\u001b[0m\u001b[0m\n\u001b[0m\u001b[1;32m     10\u001b[0m \u001b[0;34m\u001b[0m\u001b[0m\n\u001b[1;32m     11\u001b[0m \u001b[0mcntry_lst\u001b[0m \u001b[0;34m=\u001b[0m \u001b[0;34m[\u001b[0m\u001b[0;34m'gyhwefy7832ryyg-US'\u001b[0m\u001b[0;34m,\u001b[0m \u001b[0;34m'iu7ytf87gyuwef-CA'\u001b[0m\u001b[0;34m,\u001b[0m \u001b[0;34m'98yfyg82t3r-US'\u001b[0m\u001b[0;34m]\u001b[0m\u001b[0;34m\u001b[0m\u001b[0;34m\u001b[0m\u001b[0m\n",
      "\u001b[0;31mRecursionError\u001b[0m: maximum recursion depth exceeded in comparison"
     ]
    }
   ],
   "source": [
    "def cntry_id(cntry_lst):\n",
    "    id_lst = ' ' \n",
    "    for c_id in cntry_lst:\n",
    "        id_lst += c_id[-2:]\n",
    "    return id_lst\n",
    "\n",
    "def split_id(cntry_lst):\n",
    "    for i in range (0,len(cntry_lst),2):\n",
    "        return cntry_id(split_id(cntry_lst[i : i+2]))\n",
    "\n",
    "cntry_lst = ['gyhwefy7832ryyg-US', 'iu7ytf87gyuwef-CA', '98yfyg82t3r-US']\n",
    "\n",
    "print(split_id(cntry_id(cntry_lst)))"
   ]
  },
  {
   "cell_type": "code",
   "execution_count": 377,
   "metadata": {},
   "outputs": [
    {
     "name": "stdout",
     "output_type": "stream",
     "text": [
      "US\n",
      "CA\n",
      "US\n"
     ]
    }
   ],
   "source": [
    "def cntry_id(cntry_lst):\n",
    "    id_lst = '' \n",
    "    for c_id in cntry_lst:\n",
    "        id_lst += c_id[-2:]\n",
    "    #print(id_lst)\n",
    "    for i in range(0, len(id_lst), 2):\n",
    "        print(id_lst[i:i+2])\n",
    "            \n",
    "            \n",
    "cntry_lst = ['gyhwefy7832ryyg-US', 'iu7ytf87gyuwef-CA', '98yfyg82t3r-US']\n",
    "\n",
    "cntry_id(cntry_lst) \n",
    "\n",
    "\n",
    "\n"
   ]
  },
  {
   "cell_type": "code",
   "execution_count": 336,
   "metadata": {},
   "outputs": [
    {
     "data": {
      "text/plain": [
       "['12', '34', '56', '78', '90']"
      ]
     },
     "execution_count": 336,
     "metadata": {},
     "output_type": "execute_result"
    }
   ],
   "source": [
    "line = '1234567890'\n",
    "n = 2\n",
    "[line[i:i+n] for i in range(0, len(line), n)]\n",
    "['12', '34', '56', '78', '90']"
   ]
  },
  {
   "cell_type": "code",
   "execution_count": 337,
   "metadata": {},
   "outputs": [
    {
     "name": "stdout",
     "output_type": "stream",
     "text": [
      "12\n",
      "34\n",
      "56\n",
      "78\n",
      "90\n"
     ]
    }
   ],
   "source": [
    "line = '1234567890'\n",
    "n = 2\n",
    "for i in range (0, len(line), n):\n",
    "    print(line[i:i+n])\n"
   ]
  },
  {
   "cell_type": "code",
   "execution_count": null,
   "metadata": {},
   "outputs": [],
   "source": []
  }
 ],
 "metadata": {
  "kernelspec": {
   "display_name": "Python 3",
   "language": "python",
   "name": "python3"
  },
  "language_info": {
   "codemirror_mode": {
    "name": "ipython",
    "version": 3
   },
   "file_extension": ".py",
   "mimetype": "text/x-python",
   "name": "python",
   "nbconvert_exporter": "python",
   "pygments_lexer": "ipython3",
   "version": "3.8.3"
  }
 },
 "nbformat": 4,
 "nbformat_minor": 4
}
