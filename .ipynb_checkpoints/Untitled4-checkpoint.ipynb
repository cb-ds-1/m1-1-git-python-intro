{
 "cells": [
  {
   "cell_type": "code",
   "execution_count": 1,
   "metadata": {},
   "outputs": [
    {
     "name": "stdout",
     "output_type": "stream",
     "text": [
      "21\n",
      "19\n",
      "-332\n",
      "1\n",
      "-1\n"
     ]
    }
   ],
   "source": [
    "def century_from_year(year):\n",
    "    if 0>year>-100:\n",
    "        print(-1)\n",
    "    elif 0>year>-1000:\n",
    "        print((year))\n",
    "        \n",
    "    else:\n",
    "        print((year + 99) // 100)\n",
    "#'//'' allows you to divide but get a int. No decimal. \n",
    "\n",
    "century_from_year(2005)\n",
    "century_from_year(1850)\n",
    "century_from_year(-332)\n",
    "century_from_year(55)\n",
    "century_from_year(-65)"
   ]
  },
  {
   "cell_type": "code",
   "execution_count": 6,
   "metadata": {},
   "outputs": [
    {
     "name": "stdout",
     "output_type": "stream",
     "text": [
      "21\n",
      "19\n",
      "-4\n",
      "1\n",
      "-1\n"
     ]
    }
   ],
   "source": [
    "def century_from_year(year):\n",
    "    if 0 > year > -100:\n",
    "        print(-1)\n",
    "    elif year < 0:\n",
    "        print((year - 9)//100)\n",
    "    else:\n",
    "        print((year + 99) // 100)\n",
    "#'//'' allows you to divide but get a int. No decimal. \n",
    "\n",
    "century_from_year(2005)\n",
    "century_from_year(1850)\n",
    "century_from_year(-332)\n",
    "century_from_year(55)\n",
    "century_from_year(-65)"
   ]
  },
  {
   "cell_type": "code",
   "execution_count": 78,
   "metadata": {},
   "outputs": [
    {
     "name": "stdout",
     "output_type": "stream",
     "text": [
      "101\n"
     ]
    }
   ],
   "source": [
    "list_a = [9, 9] \n",
    "list_b= [2]\n",
    "def add_list(list_1, list_2):        # [1,2,3]\n",
    "    lis_1 = map(str, list_1) # ['1','2','3']: map(func, iter): making it into a list of strings\n",
    "    lis_1 = ''.join(lis_1)   # '123' # joins them together into one string..i believe\n",
    "    lis_1 = int(lis_1)       # 123 takes the string and turns it into an integer\n",
    "    lis_2 = map(str, list_2)\n",
    "    lis_2 = ''.join(lis_2)\n",
    "    lis_2 = int(lis_2)\n",
    "    print(lis_1+lis_2)\n",
    "\n",
    "\n",
    "add_list(list_a, list_b)\n",
    "\n"
   ]
  },
  {
   "cell_type": "code",
   "execution_count": 16,
   "metadata": {},
   "outputs": [
    {
     "name": "stdout",
     "output_type": "stream",
     "text": [
      "123"
     ]
    }
   ],
   "source": [
    "papi = [1,2,3]\n",
    "\n",
    "for i in papi:\n",
    "    print(i, end=\"\")"
   ]
  },
  {
   "cell_type": "code",
   "execution_count": 56,
   "metadata": {},
   "outputs": [
    {
     "name": "stdout",
     "output_type": "stream",
     "text": [
      "<class 'int'>\n"
     ]
    }
   ],
   "source": [
    "lapi = [1, 2, 3]\n",
    "\n",
    "def magic(numList):         # [1,2,3]\n",
    "    s = map(str, numList)   # ['1','2','3']: map(func, iter): making it into a list of strings\n",
    "    s = ''.join(s)          # '123' # joins them together into one string..i believe\n",
    "    s = int(s)              # 123 takes the string and turns it into an integer \n",
    "    return s\n",
    "print(type(magic(lapi)))"
   ]
  },
  {
   "cell_type": "code",
   "execution_count": null,
   "metadata": {},
   "outputs": [],
   "source": []
  },
  {
   "cell_type": "code",
   "execution_count": null,
   "metadata": {},
   "outputs": [],
   "source": [
    "def pretty_pyramid(nmbr_col):\n",
    "    "
   ]
  },
  {
   "cell_type": "code",
   "execution_count": null,
   "metadata": {},
   "outputs": [],
   "source": []
  },
  {
   "cell_type": "code",
   "execution_count": 87,
   "metadata": {},
   "outputs": [
    {
     "name": "stdout",
     "output_type": "stream",
     "text": [
      " \n",
      "1  \n",
      "2 2  \n",
      "3 3 3  \n"
     ]
    }
   ],
   "source": [
    "def p_p(rows):\n",
    "    for num in range(rows):\n",
    "        for i in range(num):\n",
    "            print(num, end=\" \")  # print number\n",
    "        # line after each row to display pattern correctly\n",
    "        print(\" \")\n",
    "        \n",
    "        \n"
   ]
  },
  {
   "cell_type": "code",
   "execution_count": 155,
   "metadata": {},
   "outputs": [
    {
     "name": "stdout",
     "output_type": "stream",
     "text": [
      "* \r\n",
      "* * \r\n",
      "* * * \r\n",
      "* * * * \r\n",
      "* * * * * \r\n",
      "* * * * * * \r\n",
      "* * * * * * * \r\n"
     ]
    }
   ],
   "source": [
    "# Python 3.x code to demonstrate star pattern  \n",
    "# Function to demonstrate printing pattern triangle \n",
    "def triangle(n): \n",
    "    \n",
    "    #number of spaces \n",
    "    k = ((2*n) - 1)\n",
    "    \n",
    "    # outer loop to handle number of rows \n",
    "    for i in range(0, k): \n",
    "        # inner loop to handle number spaces \n",
    "        # values changing acc. to requirement \n",
    "        for j in range(0, k): \n",
    "            print(end=\"\")\n",
    "            \n",
    "        # decrementing k after each loop \n",
    "        k = k -1\n",
    "        \n",
    "        # inner loop to handle number of columns \n",
    "        # values changing acc. to outer loop \n",
    "        for j in range(0, i+1): \n",
    "            \n",
    "            # printing stars \n",
    "            print(\"*\", end= \" \") \n",
    "            \n",
    "        # ending line after each row \n",
    "        print(\"\\r\") \n",
    "#Driver Code \n",
    "n = 4\n",
    "triangle(n) \n"
   ]
  },
  {
   "cell_type": "code",
   "execution_count": 176,
   "metadata": {},
   "outputs": [
    {
     "name": "stdout",
     "output_type": "stream",
     "text": [
      "* * * * * \r\n",
      "* * * \r\n",
      "* \r\n",
      "\r\n"
     ]
    }
   ],
   "source": [
    "# Python 3.x code to demonstrate star pattern  \n",
    "# Function to demonstrate printing pattern triangle \n",
    "def triangle(n): \n",
    "    \n",
    "    #number of spaces \n",
    "    k = ((2*n) - 1)\n",
    "    \n",
    "    # outer loop handle number of cols\n",
    "    for j in range (0, n):\n",
    "        for j in range(0,k):\n",
    "            print(end=\"\")\n",
    "        #decrementing k after each loop\n",
    "        k = k - 2\n",
    "    \n",
    "        #inner loop to handle number of rows\n",
    "        #values changing acc. to outer loop\n",
    "        for j in range(0,k):\n",
    "            print(\"*\", end=\" \")\n",
    "            \n",
    "        #ending line after each row\n",
    "        print(\"\\r\")\n",
    "#Driver code\n",
    "n = 4\n",
    "triangle(4)\n",
    "    \n",
    "    \n",
    "    \n"
   ]
  },
  {
   "cell_type": "markdown",
   "metadata": {},
   "source": [
    " \n",
    "def triangle(n): \n",
    "    \n",
    "    #number of spaces \n",
    "    k = ((2*n) - 1)\n",
    "    \n",
    "    # outer loop handle number of cols\n",
    "    for j in range (0, n):\n",
    "        for j in range(0,k):\n",
    "            print(\"*\", end=\" \")\n",
    "        #decrementing k after each loop\n",
    "        k = (k**2) - 1 \n",
    "    \n",
    "        #inner loop to handle number of rows\n",
    "        #values changing acc. to outer loop\n",
    "        for j in range(0,k):\n",
    "            print(end=\"\")\n",
    "            \n",
    "        #ending line after each row\n",
    "        print(\"\\r\")\n",
    "\n",
    "#Driver code\n",
    "n = 4\n",
    "triangle(4)\n",
    "    \n",
    "    \n",
    "    \n"
   ]
  },
  {
   "cell_type": "code",
   "execution_count": 245,
   "metadata": {},
   "outputs": [
    {
     "name": "stdout",
     "output_type": "stream",
     "text": [
      "* \r\n",
      "* * \r\n",
      "* * * \r\n",
      "* * * * \r\n"
     ]
    }
   ],
   "source": [
    "def triangle(n): \n",
    "    \n",
    "    #number of spaces \n",
    "    k = 1\n",
    "    k_row = (2*k)-1\n",
    "    \n",
    "    # outer loop handle number of cols\n",
    "    for j in range (0, n):\n",
    "        for j in range(0,k):\n",
    "            print(\"*\", end=\" \")\n",
    "        #decrementing k after each loop\n",
    "        k = k + 1\n",
    "        \n",
    "    \n",
    "        #inner loop to handle number of rows\n",
    "        #values changing acc. to outer loop\n",
    "        for j in range(0,k_row - 1):\n",
    "            print(\"\", end=\"\")\n",
    "        #k_row = k + 1\n",
    "            \n",
    "        #ending line after each row\n",
    "        print(\"\\r\")\n",
    "\n",
    "#Driver code\n",
    "n = 4\n",
    "triangle(n)\n",
    "    "
   ]
  },
  {
   "cell_type": "code",
   "execution_count": 274,
   "metadata": {},
   "outputs": [
    {
     "name": "stdout",
     "output_type": "stream",
     "text": [
      " *\n",
      " * *\n",
      " * * *\n",
      " * * * *\n",
      " * * * * *\n",
      " * * * * * *\n",
      " * * * * * * *\n",
      " * * * * * * * *\n",
      " * * * * * * *\n",
      " * * * * * *\n",
      " * * * * *\n",
      " * * * *\n",
      " * * *\n",
      " * *\n",
      " *\n",
      "\n"
     ]
    }
   ],
   "source": [
    "def pretty_pyramid(rows):\n",
    "    for i in range(rows):\n",
    "        print(' *' * (i+1))\n",
    "    for i in reversed(range(rows)):\n",
    "        print('' *(rows-i-1)+' *'*(1*i))\n",
    "pretty_pyramid()"
   ]
  },
  {
   "cell_type": "code",
   "execution_count": 286,
   "metadata": {},
   "outputs": [
    {
     "name": "stdout",
     "output_type": "stream",
     "text": [
      "\n",
      "Inverted pyramid...\n",
      "\n",
      " * * *\n",
      " * *\n",
      " *\n",
      "\n"
     ]
    }
   ],
   "source": [
    "def inverted_pyramid(rows):\n",
    "    print('\\nInverted pyramid...\\n')\n",
    "    for i in reversed(range(rows)):\n",
    "        print(''*(rows-i-1) + ' *'*(1*i))\n",
    "        \n",
    "inverted_pyramid(4)"
   ]
  },
  {
   "cell_type": "code",
   "execution_count": 407,
   "metadata": {},
   "outputs": [
    {
     "ename": "NameError",
     "evalue": "name 'last_item' is not defined",
     "output_type": "error",
     "traceback": [
      "\u001b[0;31m---------------------------------------------------------------------------\u001b[0m",
      "\u001b[0;31mNameError\u001b[0m                                 Traceback (most recent call last)",
      "\u001b[0;32m<ipython-input-407-7bb47f32bee3>\u001b[0m in \u001b[0;36m<module>\u001b[0;34m\u001b[0m\n\u001b[1;32m     10\u001b[0m \u001b[0;31m#    print(sum(int_list))\u001b[0m\u001b[0;34m\u001b[0m\u001b[0;34m\u001b[0m\u001b[0;34m\u001b[0m\u001b[0m\n\u001b[1;32m     11\u001b[0m \u001b[0;34m\u001b[0m\u001b[0m\n\u001b[0;32m---> 12\u001b[0;31m \u001b[0mlucky_seven\u001b[0m\u001b[0;34m(\u001b[0m\u001b[0;34m[\u001b[0m\u001b[0;36m1\u001b[0m\u001b[0;34m,\u001b[0m \u001b[0;36m7\u001b[0m\u001b[0;34m,\u001b[0m \u001b[0;36m1\u001b[0m\u001b[0;34m]\u001b[0m\u001b[0;34m)\u001b[0m\u001b[0;34m\u001b[0m\u001b[0;34m\u001b[0m\u001b[0m\n\u001b[0m\u001b[1;32m     13\u001b[0m \u001b[0;34m\u001b[0m\u001b[0m\n\u001b[1;32m     14\u001b[0m \u001b[0;34m\u001b[0m\u001b[0m\n",
      "\u001b[0;32m<ipython-input-406-43136bd14d58>\u001b[0m in \u001b[0;36mlucky_seven\u001b[0;34m(int_list)\u001b[0m\n\u001b[1;32m     22\u001b[0m \u001b[0;32mdef\u001b[0m \u001b[0mlucky_seven\u001b[0m\u001b[0;34m(\u001b[0m\u001b[0mint_list\u001b[0m\u001b[0;34m)\u001b[0m\u001b[0;34m:\u001b[0m\u001b[0;34m\u001b[0m\u001b[0;34m\u001b[0m\u001b[0m\n\u001b[1;32m     23\u001b[0m     \u001b[0;32mfor\u001b[0m \u001b[0mindex\u001b[0m\u001b[0;34m,\u001b[0m \u001b[0mitem\u001b[0m \u001b[0;32min\u001b[0m \u001b[0menumerate\u001b[0m\u001b[0;34m(\u001b[0m\u001b[0mint_list\u001b[0m\u001b[0;34m)\u001b[0m\u001b[0;34m:\u001b[0m\u001b[0;34m\u001b[0m\u001b[0;34m\u001b[0m\u001b[0m\n\u001b[0;32m---> 24\u001b[0;31m         \u001b[0;32mif\u001b[0m \u001b[0mlast_item\u001b[0m \u001b[0;34m==\u001b[0m \u001b[0;36m7\u001b[0m\u001b[0;34m:\u001b[0m\u001b[0;34m\u001b[0m\u001b[0;34m\u001b[0m\u001b[0m\n\u001b[0m\u001b[1;32m     25\u001b[0m             \u001b[0mfactor\u001b[0m \u001b[0;34m=\u001b[0m \u001b[0;36m3\u001b[0m\u001b[0;34m\u001b[0m\u001b[0;34m\u001b[0m\u001b[0m\n\u001b[1;32m     26\u001b[0m \u001b[0;34m\u001b[0m\u001b[0m\n",
      "\u001b[0;31mNameError\u001b[0m: name 'last_item' is not defined"
     ]
    }
   ],
   "source": [
    "#def lucky_seven(int_list):\n",
    "#    for index, item in enumerate(int_list):\n",
    "#        if item == 7:\n",
    "#            int_list[index] = 14\n",
    "    #for index in indexes:\n",
    "        \n",
    "    #for index, item in enumerate(int_list):\n",
    "    #   if item == 14:\n",
    "    #        int_list[index + 1 ] = (item* 3)\n",
    "#    print(sum(int_list))\n",
    "\n",
    "lucky_seven([1, 7, 1])\n",
    "\n",
    "\n",
    "#declare a new variable and call it factor \n",
    "#if last_item == , factor this item *3\n",
    "#if item == 7, factor this item *2\n",
    "#else, factor = 1\n",
    "#sum = sum + item*factor\n",
    "\n",
    "\n",
    "def lucky_seven(int_list):\n",
    "    for index, item in enumerate(int_list):\n",
    "        if last_item == 7:\n",
    "            factor = 3\n",
    "        elif item == 7:\n",
    "            factor = 2\n",
    "        else:\n",
    "            factor = 1\n",
    " \n",
    "        \n"
   ]
  },
  {
   "cell_type": "code",
   "execution_count": 376,
   "metadata": {},
   "outputs": [
    {
     "data": {
      "text/plain": [
       "['Maria', 'Jenny', 'Jack']"
      ]
     },
     "execution_count": 376,
     "metadata": {},
     "output_type": "execute_result"
    }
   ],
   "source": [
    "names = ['Jon', 'Bill', 'Maria', 'Jenny', 'Jack']\n",
    "names [2:5]"
   ]
  },
  {
   "cell_type": "code",
   "execution_count": 431,
   "metadata": {},
   "outputs": [
    {
     "name": "stdout",
     "output_type": "stream",
     "text": [
      "[1, 14, 42]\n"
     ]
    }
   ],
   "source": [
    "def lucky_seven(int_list):\n",
    "    for index, item in enumerate(int_list):\n",
    "        if item == 7:\n",
    "            int_list[index] = 14        \n",
    "    for index, item in enumerate(int_list):\n",
    "        if item == 14:\n",
    "            #This works...on the right side..I need to plug in the item in that index rather than the 14\n",
    "            int_list[index+1] = (item* 3)\n",
    "             \n",
    "    print((int_list))\n",
    "\n",
    "lucky_seven([1, 7, 1])"
   ]
  },
  {
   "cell_type": "code",
   "execution_count": 424,
   "metadata": {},
   "outputs": [
    {
     "data": {
      "text/plain": [
       "[1, 7, 1, 7]"
      ]
     },
     "execution_count": 424,
     "metadata": {},
     "output_type": "execute_result"
    }
   ],
   "source": [
    "def lucky_seven(int_list):\n",
    "    for index, item in enumerate(int_list):\n",
    "        if item == 7:\n",
    "            int_list.append(7)\n",
    "            return int_list\n",
    "    \n",
    "    \n",
    "    \n",
    "    #for index in indexes:\n",
    "        \n",
    "    #for index, item in enumerate(int_list):\n",
    "    #   if item == 14:\n",
    "    #        int_list[index + 1 ] = (item* 3)\n",
    "    print(int_list)\n",
    "\n",
    "lucky_seven([1, 7, 1])\n",
    "\n",
    "\n",
    "#declare a new variable and call it factor \n",
    "#if last_item == , factor this item *3\n",
    "#if item == 7, factor this item *2\n",
    "#else, factor = 1\n",
    "#sum = sum + item*factor"
   ]
  },
  {
   "cell_type": "code",
   "execution_count": 493,
   "metadata": {},
   "outputs": [
    {
     "name": "stdout",
     "output_type": "stream",
     "text": [
      "24\n",
      "[4]\n"
     ]
    }
   ],
   "source": [
    "def lucky_seven(int_list):\n",
    "    n_int_list = []\n",
    "    index_list = []\n",
    "    for index, item in enumerate(int_list):\n",
    "        if item == 7:\n",
    "            n_int_list.append(7*2)\n",
    "            index_list.append(index)\n",
    "        elif index in index_list:\n",
    "            n_int_list.append(item*3)\n",
    "        else:\n",
    "            n_int_list.append(item)\n",
    "    \n",
    "   \n",
    "    print(sum(n_int_list))\n",
    "    print(index_list)\n",
    "\n",
    "lucky_seven([1, 2, 2, 1, 7, 3, 1,])"
   ]
  },
  {
   "cell_type": "code",
   "execution_count": null,
   "metadata": {},
   "outputs": [],
   "source": []
  },
  {
   "cell_type": "code",
   "execution_count": 474,
   "metadata": {},
   "outputs": [
    {
     "ename": "TypeError",
     "evalue": "'int' object is not callable",
     "output_type": "error",
     "traceback": [
      "\u001b[0;31m---------------------------------------------------------------------------\u001b[0m",
      "\u001b[0;31mTypeError\u001b[0m                                 Traceback (most recent call last)",
      "\u001b[0;32m<ipython-input-474-c0ad9e7f5d93>\u001b[0m in \u001b[0;36m<module>\u001b[0;34m\u001b[0m\n\u001b[1;32m      1\u001b[0m \u001b[0ml1\u001b[0m \u001b[0;34m=\u001b[0m \u001b[0;34m[\u001b[0m\u001b[0;34m'apple'\u001b[0m\u001b[0;34m,\u001b[0m \u001b[0;34m'pear'\u001b[0m\u001b[0;34m,\u001b[0m \u001b[0;34m'grapes'\u001b[0m\u001b[0;34m,\u001b[0m \u001b[0;34m'banana'\u001b[0m\u001b[0;34m,\u001b[0m \u001b[0;34m'pear'\u001b[0m\u001b[0;34m]\u001b[0m\u001b[0;34m\u001b[0m\u001b[0;34m\u001b[0m\u001b[0m\n\u001b[0;32m----> 2\u001b[0;31m \u001b[0mprint\u001b[0m\u001b[0;34m(\u001b[0m\u001b[0mindex\u001b[0m\u001b[0;34m(\u001b[0m\u001b[0;34m'pear'\u001b[0m\u001b[0;34m)\u001b[0m\u001b[0;34m)\u001b[0m\u001b[0;34m\u001b[0m\u001b[0;34m\u001b[0m\u001b[0m\n\u001b[0m",
      "\u001b[0;31mTypeError\u001b[0m: 'int' object is not callable"
     ]
    }
   ],
   "source": [
    "l1 = ['apple', 'pear', 'grapes', 'banana', 'pear']\n",
    "print(index('pear'))"
   ]
  },
  {
   "cell_type": "code",
   "execution_count": 475,
   "metadata": {},
   "outputs": [
    {
     "ename": "TypeError",
     "evalue": "'int' object is not callable",
     "output_type": "error",
     "traceback": [
      "\u001b[0;31m---------------------------------------------------------------------------\u001b[0m",
      "\u001b[0;31mTypeError\u001b[0m                                 Traceback (most recent call last)",
      "\u001b[0;32m<ipython-input-475-d393496e5d66>\u001b[0m in \u001b[0;36m<module>\u001b[0;34m\u001b[0m\n\u001b[1;32m      1\u001b[0m \u001b[0ml\u001b[0m \u001b[0;34m=\u001b[0m \u001b[0;34m[\u001b[0m\u001b[0;36m1\u001b[0m\u001b[0;34m,\u001b[0m \u001b[0;36m2\u001b[0m\u001b[0;34m,\u001b[0m \u001b[0;36m3\u001b[0m\u001b[0;34m,\u001b[0m \u001b[0;36m4\u001b[0m\u001b[0;34m]\u001b[0m\u001b[0;34m\u001b[0m\u001b[0;34m\u001b[0m\u001b[0m\n\u001b[1;32m      2\u001b[0m \u001b[0;34m\u001b[0m\u001b[0m\n\u001b[0;32m----> 3\u001b[0;31m \u001b[0mprint\u001b[0m\u001b[0;34m(\u001b[0m\u001b[0mindex\u001b[0m\u001b[0;34m(\u001b[0m\u001b[0ml\u001b[0m\u001b[0;34m)\u001b[0m\u001b[0;34m)\u001b[0m\u001b[0;34m\u001b[0m\u001b[0;34m\u001b[0m\u001b[0m\n\u001b[0m",
      "\u001b[0;31mTypeError\u001b[0m: 'int' object is not callable"
     ]
    }
   ],
   "source": [
    "l = [1, 2, 3, 4]\n",
    "\n",
    "print(index(l))"
   ]
  },
  {
   "cell_type": "code",
   "execution_count": null,
   "metadata": {},
   "outputs": [],
   "source": []
  }
 ],
 "metadata": {
  "kernelspec": {
   "display_name": "Python 3",
   "language": "python",
   "name": "python3"
  },
  "language_info": {
   "codemirror_mode": {
    "name": "ipython",
    "version": 3
   },
   "file_extension": ".py",
   "mimetype": "text/x-python",
   "name": "python",
   "nbconvert_exporter": "python",
   "pygments_lexer": "ipython3",
   "version": "3.8.3"
  }
 },
 "nbformat": 4,
 "nbformat_minor": 4
}
