{
 "cells": [
  {
   "cell_type": "markdown",
   "metadata": {},
   "source": [
    "# Warmup: adder function\n",
    "\n",
    "Create a function that takes two numbers as arguments and return their sum.\n",
    "Examples\n",
    "\n",
    "addition(3, 2) ➞ 5\n",
    "\n",
    "addition(-3, -6) ➞ -9\n",
    "\n",
    "addition(7, 3) ➞ 10"
   ]
  },
  {
   "cell_type": "code",
   "execution_count": 1,
   "metadata": {},
   "outputs": [],
   "source": [
    "def addition(a, b):\n",
    "    return a + b"
   ]
  },
  {
   "cell_type": "code",
   "execution_count": 2,
   "metadata": {},
   "outputs": [
    {
     "data": {
      "text/plain": [
       "5"
      ]
     },
     "execution_count": 2,
     "metadata": {},
     "output_type": "execute_result"
    }
   ],
   "source": [
    "addition(3, 2)"
   ]
  },
  {
   "cell_type": "code",
   "execution_count": 3,
   "metadata": {},
   "outputs": [
    {
     "data": {
      "text/plain": [
       "-9"
      ]
     },
     "execution_count": 3,
     "metadata": {},
     "output_type": "execute_result"
    }
   ],
   "source": [
    "addition(-3, -6)"
   ]
  },
  {
   "cell_type": "code",
   "execution_count": 4,
   "metadata": {},
   "outputs": [
    {
     "data": {
      "text/plain": [
       "10"
      ]
     },
     "execution_count": 4,
     "metadata": {},
     "output_type": "execute_result"
    }
   ],
   "source": [
    "addition(7, 3)"
   ]
  },
  {
   "cell_type": "markdown",
   "metadata": {},
   "source": [
    "# Warmup 2: even numbers\n",
    "\n",
    "Generate a Python list of all the even numbers between 4 to 3048"
   ]
  },
  {
   "cell_type": "code",
   "execution_count": 275,
   "metadata": {},
   "outputs": [],
   "source": [
    "all_even = list(range(4, 3049, 2))"
   ]
  },
  {
   "cell_type": "code",
   "execution_count": 276,
   "metadata": {},
   "outputs": [
    {
     "data": {
      "text/plain": [
       "[4, 6, 8, 10, 12]"
      ]
     },
     "execution_count": 276,
     "metadata": {},
     "output_type": "execute_result"
    }
   ],
   "source": [
    "all_even[:5]"
   ]
  },
  {
   "cell_type": "code",
   "execution_count": 277,
   "metadata": {},
   "outputs": [
    {
     "data": {
      "text/plain": [
       "[3040, 3042, 3044, 3046, 3048]"
      ]
     },
     "execution_count": 277,
     "metadata": {},
     "output_type": "execute_result"
    }
   ],
   "source": [
    "all_even[-5:]"
   ]
  },
  {
   "cell_type": "markdown",
   "metadata": {},
   "source": [
    "# Exercise 1: First and Last \n",
    "\n",
    "Creates a function that takes a string and returns the first and last character.\n",
    "### Examples\n",
    "\n",
    "```\n",
    "first_last(\"ganesh\") ➞ \"gh\"\n",
    "\n",
    "first_last(\"kali\") ➞ \"ki\"\n",
    "\n",
    "first_last(\"shiva\") ➞ \"sa\"\n",
    "\n",
    "first_last(\"vishnu\") ➞ \"vu\"\n",
    "\n",
    "first_last(\"durga\") ➞ \"da\"\n",
    "```"
   ]
  },
  {
   "cell_type": "code",
   "execution_count": 273,
   "metadata": {},
   "outputs": [],
   "source": [
    "def first_last(a_str):\n",
    "    # grab first and last characters by their defined places and concatenate them\n",
    "    return a_str[0] + a_str[-1]"
   ]
  },
  {
   "cell_type": "code",
   "execution_count": 274,
   "metadata": {},
   "outputs": [
    {
     "data": {
      "text/plain": [
       "'gh'"
      ]
     },
     "execution_count": 274,
     "metadata": {},
     "output_type": "execute_result"
    }
   ],
   "source": [
    "first_last(\"ganesh\")"
   ]
  },
  {
   "cell_type": "markdown",
   "metadata": {},
   "source": [
    "# Exercise 2: Keys in Dict\n",
    "\n",
    "Write a function that returns `True` if a dictionary contains the specified key, and `False` otherwise.\n",
    "\n",
    "### Examples\n",
    "\n",
    "```\n",
    "has_key({ \"a\": 44, \"b\": 45, \"c\": 46 }, \"d\") ➞ False\n",
    "\n",
    "has_key({ \"craves\": True, \"midnight\": True, \"snack\": True }, \"morning\") ➞ False\n",
    "\n",
    "has_key({ \"pot\": 1, \"tot\": 2, \"not\": 3 }, \"not\") ➞ True\n",
    "```"
   ]
  },
  {
   "cell_type": "code",
   "execution_count": 270,
   "metadata": {},
   "outputs": [],
   "source": [
    "def has_key(dct, key):\n",
    "    try:\n",
    "        # attempt to assign the dictionary value to a variable\n",
    "        # if it fails with KeyError, we know that this key is \n",
    "        # non-existant in the dict\n",
    "        a = dct[key]\n",
    "    except KeyError:\n",
    "        return False\n",
    "    else:\n",
    "        return True"
   ]
  },
  {
   "cell_type": "code",
   "execution_count": 271,
   "metadata": {},
   "outputs": [
    {
     "data": {
      "text/plain": [
       "True"
      ]
     },
     "execution_count": 271,
     "metadata": {},
     "output_type": "execute_result"
    }
   ],
   "source": [
    "has_key({ \"a\": 44, \"b\": 45, \"c\": 46 }, \"c\")"
   ]
  },
  {
   "cell_type": "code",
   "execution_count": 272,
   "metadata": {},
   "outputs": [
    {
     "data": {
      "text/plain": [
       "False"
      ]
     },
     "execution_count": 272,
     "metadata": {},
     "output_type": "execute_result"
    }
   ],
   "source": [
    "has_key({ \"a\": 44, \"b\": 45, \"c\": 46 }, \"d\")"
   ]
  },
  {
   "cell_type": "markdown",
   "metadata": {},
   "source": [
    "# Exercise 3: Element Count\n",
    "\n",
    "Write a function that count how many times each element in a list occurs. It should return a dict in the format `element -> count`\n",
    "\n",
    "ex:\n",
    "```\n",
    "key_count([1, 3, 2, 1, 5, 3, 5, 1, 4]) ⇒ {\n",
    "    1: 3,\n",
    "    2: 1,\n",
    "    3: 2,\n",
    "    4: 1,\n",
    "    5: 2,\n",
    "}\n",
    "```"
   ]
  },
  {
   "cell_type": "code",
   "execution_count": 265,
   "metadata": {},
   "outputs": [],
   "source": [
    "def key_count(lst):\n",
    "    \n",
    "    #initialize a dictionary\n",
    "    dct = []\n",
    "    \n",
    "    # create the unique set of elements in the given list\n",
    "    uniques = set(lst)\n",
    "    \n",
    "    # loop on these unique values ...\n",
    "    for val in uniques:\n",
    "        #initialize counter\n",
    "        count = 0\n",
    "        \n",
    "        # compare each with the elements in the given list\n",
    "        for num in lst:\n",
    "            \n",
    "            # when they match, increase counter by one\n",
    "            if num == val:\n",
    "                count += 1\n",
    "                \n",
    "        # create a new pair for entry into the dict and then append it\n",
    "        new = {val : count}\n",
    "        dct.append(new)\n",
    "    \n",
    "    return dct"
   ]
  },
  {
   "cell_type": "code",
   "execution_count": 266,
   "metadata": {},
   "outputs": [
    {
     "data": {
      "text/plain": [
       "[{1: 3}, {2: 1}, {3: 2}, {4: 1}, {5: 2}]"
      ]
     },
     "execution_count": 266,
     "metadata": {},
     "output_type": "execute_result"
    }
   ],
   "source": [
    "key_count([1, 3, 2, 1, 5, 3, 5, 1, 4])"
   ]
  },
  {
   "cell_type": "markdown",
   "metadata": {},
   "source": [
    "# Exercise 4: Test Distinct\n",
    "\n",
    "Write a Python function that takes a sequence of numbers and determines whether all the numbers are different from each other.\n",
    "\n",
    "```\n",
    "test_distinct([2,3,4,5,7,8]) -> True\n",
    "test_distinct([2,3,4,5,8,8]) -> False\n",
    "```"
   ]
  },
  {
   "cell_type": "code",
   "execution_count": 267,
   "metadata": {},
   "outputs": [],
   "source": [
    "def test_distinct(lst):\n",
    "    # compare the lenght of the list with the unique set\n",
    "    return len(set(lst)) == len(lst)"
   ]
  },
  {
   "cell_type": "code",
   "execution_count": 268,
   "metadata": {},
   "outputs": [
    {
     "data": {
      "text/plain": [
       "True"
      ]
     },
     "execution_count": 268,
     "metadata": {},
     "output_type": "execute_result"
    }
   ],
   "source": [
    "test_distinct([2,3,4,5,7,8])"
   ]
  },
  {
   "cell_type": "code",
   "execution_count": 269,
   "metadata": {},
   "outputs": [
    {
     "data": {
      "text/plain": [
       "False"
      ]
     },
     "execution_count": 269,
     "metadata": {},
     "output_type": "execute_result"
    }
   ],
   "source": [
    "test_distinct([2,3,4,5,8,8])"
   ]
  },
  {
   "cell_type": "markdown",
   "metadata": {},
   "source": [
    "# Exercise 5: Debt Calculator\n",
    "\n",
    "Write a Python program to compute the amount of the debt in n months. The borrowing amount is $100,000 and the loan adds 5% interest of the debt and rounds it to the nearest 1,000 above month by month.\n",
    "\n",
    "The function takes in an integer (the number of months) and returns the total debt including the starting \\$100,000 rounded to \\$1000 .\n",
    "\n",
    "```\n",
    "debt_total(7) -> 144000\n",
    "debt_total(8) -> 152000\n",
    "debt_total(9) -> 160000\n",
    "debt_total(1) -> 105000\n",
    "debt_total(57) -> 1736000\n",
    "```\n"
   ]
  },
  {
   "cell_type": "code",
   "execution_count": 278,
   "metadata": {},
   "outputs": [],
   "source": [
    "def debt_total(n):\n",
    "    # initialize the given parameters\n",
    "    loan = 100000\n",
    "    intst = 0.05\n",
    "    \n",
    "    # initialize the balance\n",
    "    balance = loan\n",
    "    \n",
    "    for i in range(n):\n",
    "        \n",
    "        # calculate the interest due\n",
    "        int_raw = balance * 0.05\n",
    "        \n",
    "        # calculate the remainder if divided by 10000\n",
    "        if int_raw % 1000 > 0:\n",
    "            \n",
    "            # round up the number of thousands if there is a remainder\n",
    "            int_rnd = int_raw // 1000 + 1\n",
    "        else:\n",
    "            \n",
    "            # don't round up if remainder is zero\n",
    "            int_rnd = int_raw // 1000\n",
    "            \n",
    "        # bring number back to thousands and add to balance\n",
    "        balance += int_rnd * 1000\n",
    "        \n",
    "    return balance"
   ]
  },
  {
   "cell_type": "code",
   "execution_count": 279,
   "metadata": {},
   "outputs": [
    {
     "name": "stdout",
     "output_type": "stream",
     "text": [
      "debt_total(7) -> 144000.0\n",
      "debt_total(8) -> 152000.0\n",
      "debt_total(9) -> 160000.0\n",
      "debt_total(1) -> 105000.0\n",
      "debt_total(57) -> 1736000.0\n"
     ]
    }
   ],
   "source": [
    "lst = [7, 8, 9, 1, 57]\n",
    "for val in lst:\n",
    "    print(f\"debt_total({val}) -> {debt_total(val)}\")"
   ]
  },
  {
   "cell_type": "markdown",
   "metadata": {},
   "source": [
    "# Exercise 6: Spell Checker\n",
    "\n",
    "Create a function that takes in two lists: \n",
    "\n",
    "1. A sentence as a list of user-typed words\n",
    "\n",
    "2. The list of correctly-typed words\n",
    "\n",
    "and outputs a list containing 1s (correctly-typed words) and 0s (incorrectly-typed words).\n",
    "\n",
    "### Inputs:\n",
    "> User-typed: \\[\"cat\", \"blue\", \"skt\", \"umbrells\", \"paddy\"\\]\n",
    "\n",
    "> Correct: \\[\"cat\", \"blue\", \"sky\", \"umbrella\", \"paddy\"\\]\n",
    "\n",
    "### Output: \\[ 1, 1, 0, 0, 1 \\]\n",
    "\n",
    "### Examples\n",
    "\n",
    "```\n",
    "correct_stream(\n",
    "  [\"it\", \"is\", \"find\"],\n",
    "  [\"it\", \"is\", \"fine\"]\n",
    ") ➞ [1, 1, 0]\n",
    "\n",
    "correct_stream(\n",
    "  [\"april\", \"showrs\", \"bring\", \"may\", \"flowers\"],\n",
    "  [\"april\", \"showers\", \"bring\", \"may\", \"flowers\"]\n",
    ") ➞ [1, 0, 1, 1, 1]\n",
    "\n",
    "```"
   ]
  },
  {
   "cell_type": "code",
   "execution_count": 280,
   "metadata": {},
   "outputs": [],
   "source": [
    "def correct_stream(tst, good):\n",
    "    \n",
    "    lst = list(range(len(good)))\n",
    "    \n",
    "    for i in lst:\n",
    "        # do a pair-wise comparison for each element in both lists\n",
    "        # assign a 1 to a match and a 0 to non-matching pairs\n",
    "        if tst[i] == good[i]:\n",
    "            lst[i] = 1\n",
    "        else:\n",
    "            lst[i] = 0\n",
    "    \n",
    "    return lst"
   ]
  },
  {
   "cell_type": "code",
   "execution_count": 281,
   "metadata": {},
   "outputs": [
    {
     "data": {
      "text/plain": [
       "[1, 1, 0]"
      ]
     },
     "execution_count": 281,
     "metadata": {},
     "output_type": "execute_result"
    }
   ],
   "source": [
    "correct_stream(\n",
    "  [\"it\", \"is\", \"find\"],\n",
    "  [\"it\", \"is\", \"fine\"]\n",
    ")"
   ]
  },
  {
   "cell_type": "code",
   "execution_count": 282,
   "metadata": {},
   "outputs": [
    {
     "data": {
      "text/plain": [
       "[1, 0, 1, 1, 1]"
      ]
     },
     "execution_count": 282,
     "metadata": {},
     "output_type": "execute_result"
    }
   ],
   "source": [
    "correct_stream(\n",
    "  [\"april\", \"showrs\", \"bring\", \"may\", \"flowers\"],\n",
    "  [\"april\", \"showers\", \"bring\", \"may\", \"flowers\"]\n",
    ")"
   ]
  },
  {
   "cell_type": "markdown",
   "metadata": {},
   "source": [
    "# Exercise 7: FizzBuzz\n",
    "\n",
    "Fizzbuzz is a game for children and a drinking game for adults. It's also a classic programming interview question.\n",
    "\n",
    "Suppose we have a number n. We have to display a string representation of all numbers from 1 to n, but there are some constraints.\n",
    "\n",
    "    If the number is divisible by 3, write Fizz instead of the number\n",
    "    If the number is divisible by 5, write Buzz instead of the number\n",
    "    If the number is divisible by 3 and 5 both, write FizzBuzz instead of the number\n",
    "\n",
    "So the results are `1, 2, Fizz, 4, Buzz, ..., 14, Fizzbuzz, 16, 17, Fizz, 19, Buzz, ...`\n",
    "\n",
    "Write a python program that prints fizzbuzz for numbers 1 to 150"
   ]
  },
  {
   "cell_type": "code",
   "execution_count": 283,
   "metadata": {},
   "outputs": [
    {
     "name": "stdout",
     "output_type": "stream",
     "text": [
      "1\n",
      "2\n",
      "Fizz\n",
      "4\n",
      "Buzz\n",
      "Fizz\n",
      "7\n",
      "8\n",
      "Fizz\n",
      "Buzz\n",
      "11\n",
      "Fizz\n",
      "13\n",
      "14\n",
      "FizzBuzz\n",
      "16\n",
      "17\n",
      "Fizz\n",
      "19\n",
      "Buzz\n",
      "Fizz\n",
      "22\n",
      "23\n",
      "Fizz\n",
      "Buzz\n",
      "26\n",
      "Fizz\n",
      "28\n",
      "29\n",
      "FizzBuzz\n",
      "31\n",
      "32\n",
      "Fizz\n",
      "34\n",
      "Buzz\n",
      "Fizz\n",
      "37\n",
      "38\n",
      "Fizz\n",
      "Buzz\n",
      "41\n",
      "Fizz\n",
      "43\n",
      "44\n",
      "FizzBuzz\n",
      "46\n",
      "47\n",
      "Fizz\n",
      "49\n",
      "Buzz\n",
      "Fizz\n",
      "52\n",
      "53\n",
      "Fizz\n",
      "Buzz\n",
      "56\n",
      "Fizz\n",
      "58\n",
      "59\n",
      "FizzBuzz\n",
      "61\n",
      "62\n",
      "Fizz\n",
      "64\n",
      "Buzz\n",
      "Fizz\n",
      "67\n",
      "68\n",
      "Fizz\n",
      "Buzz\n",
      "71\n",
      "Fizz\n",
      "73\n",
      "74\n",
      "FizzBuzz\n",
      "76\n",
      "77\n",
      "Fizz\n",
      "79\n",
      "Buzz\n",
      "Fizz\n",
      "82\n",
      "83\n",
      "Fizz\n",
      "Buzz\n",
      "86\n",
      "Fizz\n",
      "88\n",
      "89\n",
      "FizzBuzz\n",
      "91\n",
      "92\n",
      "Fizz\n",
      "94\n",
      "Buzz\n",
      "Fizz\n",
      "97\n",
      "98\n",
      "Fizz\n",
      "Buzz\n",
      "101\n",
      "Fizz\n",
      "103\n",
      "104\n",
      "FizzBuzz\n",
      "106\n",
      "107\n",
      "Fizz\n",
      "109\n",
      "Buzz\n",
      "Fizz\n",
      "112\n",
      "113\n",
      "Fizz\n",
      "Buzz\n",
      "116\n",
      "Fizz\n",
      "118\n",
      "119\n",
      "FizzBuzz\n",
      "121\n",
      "122\n",
      "Fizz\n",
      "124\n",
      "Buzz\n",
      "Fizz\n",
      "127\n",
      "128\n",
      "Fizz\n",
      "Buzz\n",
      "131\n",
      "Fizz\n",
      "133\n",
      "134\n",
      "FizzBuzz\n",
      "136\n",
      "137\n",
      "Fizz\n",
      "139\n",
      "Buzz\n",
      "Fizz\n",
      "142\n",
      "143\n",
      "Fizz\n",
      "Buzz\n",
      "146\n",
      "Fizz\n",
      "148\n",
      "149\n",
      "FizzBuzz\n"
     ]
    }
   ],
   "source": [
    "# define the numbers to treat as a list\n",
    "rng = list(range(1,151))\n",
    "\n",
    "# loop through them\n",
    "for i in rng:\n",
    "    ans = ''\n",
    "    \n",
    "    # catch the dual condition first\n",
    "    if (i % 3 == 0) and (i % 5 == 0):\n",
    "        ans = 'FizzBuzz'\n",
    "    # test for multiple of 3\n",
    "    elif i % 3 == 0:\n",
    "        ans = 'Fizz'\n",
    "    # test for multiple of 5\n",
    "    elif i % 5 == 0:\n",
    "        ans = 'Buzz'\n",
    "    # otherwise, convert number to a string\n",
    "    else: ans = str(i)\n",
    "        \n",
    "    print(ans)"
   ]
  },
  {
   "cell_type": "markdown",
   "metadata": {},
   "source": [
    "# Exercise 8: Palindrome?\n",
    "\n",
    "A palindrome is a word which reads the same backward as forwards. Write a function that returns `True` if a string is a palindrome:\n",
    "```\n",
    "    “laval” ⇒ Yes\n",
    "    “montreal” ⇒ No\n",
    "```"
   ]
  },
  {
   "cell_type": "code",
   "execution_count": 284,
   "metadata": {},
   "outputs": [],
   "source": [
    "def rev_str(strg):\n",
    "    # get string length\n",
    "    lngth = len(strg)\n",
    "    \n",
    "    # create list to travel backwards through string\n",
    "    lst = list(range(-1, -lngth-1, -1))\n",
    "    \n",
    "    # initialize string\n",
    "    ans = ''\n",
    "    \n",
    "    #loop through backwards and add one character at a time\n",
    "    for i in lst:\n",
    "        ans = ans + strg[i]\n",
    "    \n",
    "    # check if they match and return answer\n",
    "    return ans == strg"
   ]
  },
  {
   "cell_type": "code",
   "execution_count": 285,
   "metadata": {},
   "outputs": [
    {
     "data": {
      "text/plain": [
       "True"
      ]
     },
     "execution_count": 285,
     "metadata": {},
     "output_type": "execute_result"
    }
   ],
   "source": [
    "rev_str('laval')"
   ]
  },
  {
   "cell_type": "code",
   "execution_count": 286,
   "metadata": {},
   "outputs": [
    {
     "data": {
      "text/plain": [
       "False"
      ]
     },
     "execution_count": 286,
     "metadata": {},
     "output_type": "execute_result"
    }
   ],
   "source": [
    "rev_str('montreal')"
   ]
  },
  {
   "cell_type": "markdown",
   "metadata": {},
   "source": [
    "# Exercise 9: Counting Country IDs\n",
    "\n",
    "We have a list of user IDS with identifiers of form “userid-COUNTRYID”. Calculate how many countries we have.\n",
    "\n",
    "Ex:\n",
    "```\n",
    "[gyhwefy7832ryyg-US, iu7ytf87gyuwef-CA, 98yfyg82t3r-US] -> {'US': 2, 'CA': 1}\n",
    "\n",
    "[gyhwefy7832ryyg-US, iu7ytf87gyuwef-CA, 98yfyg82t3r-US,\n",
    "    iuhsdf897y3righsfe-US, iushdf98h23ryg-IT, iuhdf9h32ryu9gf-IT,\n",
    "    IUufgh98y34-FR, 98yfdiuhdfbviuh8-UK\n",
    "] -> {'US': 3, 'CA': 1, \"IT\": 2, 'UK':1, 'FR':1}\n",
    "```"
   ]
  },
  {
   "cell_type": "code",
   "execution_count": 287,
   "metadata": {},
   "outputs": [],
   "source": [
    "def cntry_dict(cntry_lst):\n",
    "    # initialize dictionary\n",
    "    dct = {}\n",
    "    \n",
    "    # loop through the list\n",
    "    for ids in cntry_lst:\n",
    "        # grab the last two letters in string as the country code\n",
    "        key = ids[-2:]\n",
    "        \n",
    "        try:\n",
    "            # test if the key exist and, if so, add to the counter\n",
    "            dct[key] += 1\n",
    "        except KeyError:\n",
    "            # if the key doesn't already exist, create it with a value of 1\n",
    "            dct[key] = 1\n",
    "            \n",
    "    return dct"
   ]
  },
  {
   "cell_type": "code",
   "execution_count": 288,
   "metadata": {},
   "outputs": [
    {
     "data": {
      "text/plain": [
       "{'US': 2, 'CA': 1}"
      ]
     },
     "execution_count": 288,
     "metadata": {},
     "output_type": "execute_result"
    }
   ],
   "source": [
    "cntry_dict(['gyhwefy7832ryyg-US', 'iu7ytf87gyuwef-CA', '98yfyg82t3r-US'])"
   ]
  },
  {
   "cell_type": "code",
   "execution_count": 289,
   "metadata": {},
   "outputs": [
    {
     "data": {
      "text/plain": [
       "{'US': 3, 'CA': 1, 'IT': 2, 'FR': 1, 'UK': 1}"
      ]
     },
     "execution_count": 289,
     "metadata": {},
     "output_type": "execute_result"
    }
   ],
   "source": [
    "lsst = ['gyhwefy7832ryyg-US', 'iu7ytf87gyuwef-CA', '98yfyg82t3r-US',\n",
    "    'iuhsdf897y3righsfe-US', 'iushdf98h23ryg-IT', 'iuhdf9h32ryu9gf-IT',\n",
    "    'IUufgh98y34-FR', '98yfdiuhdfbviuh8-UK'\n",
    "]\n",
    "cntry_dict(lsst)"
   ]
  },
  {
   "cell_type": "markdown",
   "metadata": {},
   "source": [
    "# Exercise 10: Identifying top countries\n",
    "\n",
    "Using your solution to the problem above, write a function that returns the top 3 countries by number of users"
   ]
  },
  {
   "cell_type": "code",
   "execution_count": 290,
   "metadata": {},
   "outputs": [],
   "source": [
    "def top3(cntry_dict):\n",
    "    \n",
    "    # loop through the given dictionary and collect all values\n",
    "    vals = []\n",
    "    for key in cntry_dict:\n",
    "        vals.append(cntry_dict[key])\n",
    "        \n",
    "    # get unique values by making it a set (but make a list to iterate over)\n",
    "    # oh, and sort it in reverse order (highest first)\n",
    "    vals = list(set(vals))\n",
    "    vals.reverse()\n",
    "\n",
    "    # create an empty dictionary to store the sorted results\n",
    "    dct = {}\n",
    "    \n",
    "    # let us loop through only the top three number of users and collect the \n",
    "    # corresponding country codes\n",
    "    # Note that we consider the case where there are less than 3 categories\n",
    "    # for the number of users\n",
    "    for i in list(range(min([3, len(vals)]))):\n",
    "        \n",
    "        for key in cntry_dict:\n",
    "            # test if # of users matches\n",
    "            if cntry_dict[key] == vals[i]:\n",
    "                try:\n",
    "                    # attempt to add the country code to the existing list with a space\n",
    "                    # in between (yes, I am assuming we want to respect ties)\n",
    "                    tmp = dct[vals[i]]\n",
    "                    dct[vals[i]] = tmp + ', ' + key\n",
    "                except KeyError:\n",
    "                    # if key didn't already exist then add it\n",
    "                    dct[vals[i]] = key\n",
    "    \n",
    "    # let us print out the results\n",
    "    for key in dct:\n",
    "        print(f\"The following countries have {key} users: {dct[key]}.\")\n",
    "    \n",
    "    return dct\n",
    "        \n",
    "        "
   ]
  },
  {
   "cell_type": "code",
   "execution_count": 291,
   "metadata": {},
   "outputs": [
    {
     "name": "stdout",
     "output_type": "stream",
     "text": [
      "The following countries have 3 users: US.\n",
      "The following countries have 2 users: IT.\n",
      "The following countries have 1 users: CA, FR, UK.\n"
     ]
    }
   ],
   "source": [
    "lsst = ['gyhwefy7832ryyg-US', 'iu7ytf87gyuwef-CA', '98yfyg82t3r-US',\n",
    "    'iuhsdf897y3righsfe-US', 'iushdf98h23ryg-IT', 'iuhdf9h32ryu9gf-IT',\n",
    "    'IUufgh98y34-FR', '98yfdiuhdfbviuh8-UK'\n",
    "]\n",
    "ress = cntry_dict(lsst)\n",
    "res = top3(ress)"
   ]
  },
  {
   "cell_type": "code",
   "execution_count": 292,
   "metadata": {},
   "outputs": [
    {
     "name": "stdout",
     "output_type": "stream",
     "text": [
      "The following countries have 2 users: US.\n",
      "The following countries have 1 users: CA.\n"
     ]
    }
   ],
   "source": [
    "ress = cntry_dict(['gyhwefy7832ryyg-US', 'iu7ytf87gyuwef-CA', '98yfyg82t3r-US'])\n",
    "res = top3(ress)"
   ]
  },
  {
   "cell_type": "markdown",
   "metadata": {},
   "source": [
    "# Exercise 11: Century\n",
    "\n",
    "Write a function that takes a year and returns its corresponding century.\n",
    "\n",
    "### Examples\n",
    "\n",
    "```\n",
    "century_from_year(2005) ➞ 21\n",
    "\n",
    "century_from_year(1850) ➞ 19\n",
    "\n",
    "century_from_year(-332) ➞ -4\n",
    "\n",
    "century_from_year(55) ➞ 1\n",
    "\n",
    "century_from_year(-65) ➞ -1\n",
    "```"
   ]
  },
  {
   "cell_type": "code",
   "execution_count": 293,
   "metadata": {},
   "outputs": [],
   "source": [
    "def century_from_year(yr):\n",
    "    \n",
    "    # rather than create two methods for positive and negative\n",
    "    # just use the sign of year to determine the result\n",
    "    # sign is given by year / abs(year)\n",
    "    centry = abs(yr) // 100 + 1\n",
    "    centry = int(yr * centry / abs(yr))\n",
    "    \n",
    "    return centry"
   ]
  },
  {
   "cell_type": "code",
   "execution_count": 294,
   "metadata": {},
   "outputs": [
    {
     "data": {
      "text/plain": [
       "21"
      ]
     },
     "execution_count": 294,
     "metadata": {},
     "output_type": "execute_result"
    }
   ],
   "source": [
    "century_from_year(2005)"
   ]
  },
  {
   "cell_type": "code",
   "execution_count": 295,
   "metadata": {},
   "outputs": [
    {
     "data": {
      "text/plain": [
       "19"
      ]
     },
     "execution_count": 295,
     "metadata": {},
     "output_type": "execute_result"
    }
   ],
   "source": [
    "century_from_year(1850)"
   ]
  },
  {
   "cell_type": "code",
   "execution_count": 296,
   "metadata": {},
   "outputs": [
    {
     "data": {
      "text/plain": [
       "-4"
      ]
     },
     "execution_count": 296,
     "metadata": {},
     "output_type": "execute_result"
    }
   ],
   "source": [
    "century_from_year(-332)"
   ]
  },
  {
   "cell_type": "code",
   "execution_count": 297,
   "metadata": {},
   "outputs": [
    {
     "data": {
      "text/plain": [
       "1"
      ]
     },
     "execution_count": 297,
     "metadata": {},
     "output_type": "execute_result"
    }
   ],
   "source": [
    "century_from_year(55)"
   ]
  },
  {
   "cell_type": "code",
   "execution_count": 298,
   "metadata": {},
   "outputs": [
    {
     "data": {
      "text/plain": [
       "-1"
      ]
     },
     "execution_count": 298,
     "metadata": {},
     "output_type": "execute_result"
    }
   ],
   "source": [
    "century_from_year(-65)"
   ]
  },
  {
   "cell_type": "markdown",
   "metadata": {},
   "source": [
    "# Exercise 12: Grade school addition\n",
    "\n",
    "Write a function that, given two lists of integers, adds them as if they were two numbers. So `12` would be `[1,2]` and `2357` would be `[2,3,5,7]`\n",
    "\n",
    "Ex:\n",
    "\n",
    "```\n",
    "    [1, 1] + [1] ⇒ 11 + 1 = 12\n",
    "    [9, 9] + [2] ⇒ 99 + 2 = 101\n",
    "```"
   ]
  },
  {
   "cell_type": "code",
   "execution_count": 299,
   "metadata": {},
   "outputs": [],
   "source": [
    "def weird_science(lst1, lst2):\n",
    "    \n",
    "    # each number is multiplied by an order of 10.\n",
    "    # generate a list of exponents for 10 from the\n",
    "    # length of the list.\n",
    "    ln1 = len(lst1)\n",
    "    rng1 = list(range(ln1))\n",
    "    # reverse the list to get the first number multiplied by the highest order of 10\n",
    "    rng1.reverse()\n",
    "    # likewise for list 2.\n",
    "    ln2 = len(lst2)\n",
    "    rng2 = list(range(ln2))\n",
    "    rng2.reverse()\n",
    "    \n",
    "    summ = 0\n",
    "    for i in rng1:\n",
    "        # multiply each number in the list by a corresponding order of 10.\n",
    "        # note that we have to fix the index value for lst1 and lst2 so that\n",
    "        # we are multiplying the first number by the highest order of 10\n",
    "        summ += lst1[ln1 - i - 1] * (10 ** i)\n",
    "        \n",
    "    for j in rng2:\n",
    "        summ += lst2[ln2 - j - 1] * (10 ** j)\n",
    "        \n",
    "    return summ"
   ]
  },
  {
   "cell_type": "code",
   "execution_count": 300,
   "metadata": {},
   "outputs": [
    {
     "data": {
      "text/plain": [
       "101"
      ]
     },
     "execution_count": 300,
     "metadata": {},
     "output_type": "execute_result"
    }
   ],
   "source": [
    "weird_science([9, 9], [2])"
   ]
  },
  {
   "cell_type": "code",
   "execution_count": 301,
   "metadata": {},
   "outputs": [
    {
     "data": {
      "text/plain": [
       "12"
      ]
     },
     "execution_count": 301,
     "metadata": {},
     "output_type": "execute_result"
    }
   ],
   "source": [
    "weird_science([1, 1], [1])"
   ]
  },
  {
   "cell_type": "code",
   "execution_count": 302,
   "metadata": {},
   "outputs": [
    {
     "data": {
      "text/plain": [
       "2369"
      ]
     },
     "execution_count": 302,
     "metadata": {},
     "output_type": "execute_result"
    }
   ],
   "source": [
    "weird_science([1, 2], [2, 3, 5, 7])"
   ]
  },
  {
   "cell_type": "markdown",
   "metadata": {},
   "source": [
    "# Exercise 13: Printing the pretty pyramid\n",
    "\n",
    "This pyramid is pretty!\n",
    "```\n",
    "* \n",
    "* * \n",
    "* * * \n",
    "* * * * \n",
    "* * * * * \n",
    "* * * * * * \n",
    "* * * * * \n",
    "* * * * \n",
    "* * * \n",
    "* * \n",
    "* \n",
    "```\n",
    "\n",
    "Let's celebrate that.\n",
    "\n",
    "Given a number of rows, print a sideways pyramid with this number of \"levels\" on each side. For instance your function `pretty_pyramid(4)` would print out:\n",
    "\n",
    "```\n",
    "* \n",
    "* * \n",
    "* * * \n",
    "* * * * \n",
    "* * * \n",
    "* * \n",
    "* \n",
    "```\n",
    "\n",
    "And `pretty_pyramid(8)` would print out:\n",
    "\n",
    "```\n",
    "* \n",
    "* * \n",
    "* * * \n",
    "* * * * \n",
    "* * * * * \n",
    "* * * * * * \n",
    "* * * * * * * \n",
    "* * * * * * * * \n",
    "* * * * * * * \n",
    "* * * * * * \n",
    "* * * * * \n",
    "* * * * \n",
    "* * * \n",
    "* * \n",
    "* \n",
    "```"
   ]
  },
  {
   "cell_type": "code",
   "execution_count": 303,
   "metadata": {},
   "outputs": [],
   "source": [
    "def pretty_pyramid(wide):\n",
    "    \n",
    "    # create a list going from 1 to required width\n",
    "    rng1 = list(range(1, wide+1))\n",
    "    \n",
    "    # create a list going from 1 to one less than the width\n",
    "    rng2 = list(range(1, wide))\n",
    "    # reverse this list\n",
    "    rng2.reverse()\n",
    "    \n",
    "    # concatinate the ranges\n",
    "    rng = rng1 + rng2\n",
    "    \n",
    "    ast = '*'\n",
    "    # loop through and create the pyramid\n",
    "    for i in rng:\n",
    "        txt = ast * i\n",
    "        print(txt)\n",
    "        \n",
    "    return\n",
    "    "
   ]
  },
  {
   "cell_type": "code",
   "execution_count": 304,
   "metadata": {},
   "outputs": [
    {
     "name": "stdout",
     "output_type": "stream",
     "text": [
      "*\n",
      "**\n",
      "***\n",
      "****\n",
      "*****\n",
      "******\n",
      "*******\n",
      "********\n",
      "*******\n",
      "******\n",
      "*****\n",
      "****\n",
      "***\n",
      "**\n",
      "*\n"
     ]
    }
   ],
   "source": [
    "pretty_pyramid(8)"
   ]
  },
  {
   "cell_type": "code",
   "execution_count": 305,
   "metadata": {},
   "outputs": [
    {
     "name": "stdout",
     "output_type": "stream",
     "text": [
      "*\n",
      "**\n",
      "***\n",
      "****\n",
      "*****\n",
      "******\n",
      "*****\n",
      "****\n",
      "***\n",
      "**\n",
      "*\n"
     ]
    }
   ],
   "source": [
    "pretty_pyramid(6)"
   ]
  },
  {
   "cell_type": "code",
   "execution_count": 306,
   "metadata": {},
   "outputs": [
    {
     "name": "stdout",
     "output_type": "stream",
     "text": [
      "*\n",
      "**\n",
      "***\n",
      "****\n",
      "*****\n",
      "******\n",
      "*******\n",
      "********\n",
      "*********\n",
      "**********\n",
      "***********\n",
      "************\n",
      "*************\n",
      "**************\n",
      "***************\n",
      "****************\n",
      "*****************\n",
      "******************\n",
      "*****************\n",
      "****************\n",
      "***************\n",
      "**************\n",
      "*************\n",
      "************\n",
      "***********\n",
      "**********\n",
      "*********\n",
      "********\n",
      "*******\n",
      "******\n",
      "*****\n",
      "****\n",
      "***\n",
      "**\n",
      "*\n"
     ]
    }
   ],
   "source": [
    "pretty_pyramid(18)"
   ]
  },
  {
   "cell_type": "markdown",
   "metadata": {},
   "source": [
    "# Exercise 14: Lucky 7\n",
    "\n",
    "Return the sum of the numbers in an array, returning 0 for an empty array. \n",
    "\n",
    "The number 7 is “lucky”, therefore it does countdouble and the number that comes immediately after a 7 countstriple.\n",
    "\n",
    "```\n",
    "lucky_seven([1, 2, 4, 1]) → 8\n",
    "lucky_seven([1, 1]) → 2\n",
    "lucky_seven([1, 2, 2, 1, 7]) → 20\n",
    "lucky_seven([1, 2, 2, 1, 7, 3, 1]) → 30\n",
    "```\n"
   ]
  },
  {
   "cell_type": "code",
   "execution_count": 307,
   "metadata": {},
   "outputs": [],
   "source": [
    "def lucky_seven(lst):\n",
    "    \n",
    "    # initialize sum\n",
    "    summ = 0\n",
    "\n",
    "    # create a factor to simplify the logic\n",
    "    fac2 = 1\n",
    "\n",
    "    # loop through the list items\n",
    "    for i in list(range(len(lst))):\n",
    "        if lst[i] == 7:\n",
    "            summ += 7 * 2\n",
    "            # fac2 becomes 3 for the next round only\n",
    "            # this assumes that if there are two sevens\n",
    "            # in a row, we will not treble the second 7.\n",
    "            fac2 = 3\n",
    "        else:\n",
    "            summ += lst[i] * fac2\n",
    "            # reset fac2 for the next item\n",
    "            fac2 = 1\n",
    "    return summ"
   ]
  },
  {
   "cell_type": "code",
   "execution_count": 308,
   "metadata": {},
   "outputs": [
    {
     "data": {
      "text/plain": [
       "8"
      ]
     },
     "execution_count": 308,
     "metadata": {},
     "output_type": "execute_result"
    }
   ],
   "source": [
    "lucky_seven([1, 2, 4, 1])"
   ]
  },
  {
   "cell_type": "code",
   "execution_count": 309,
   "metadata": {},
   "outputs": [
    {
     "data": {
      "text/plain": [
       "2"
      ]
     },
     "execution_count": 309,
     "metadata": {},
     "output_type": "execute_result"
    }
   ],
   "source": [
    "lucky_seven([1, 1])"
   ]
  },
  {
   "cell_type": "code",
   "execution_count": 310,
   "metadata": {},
   "outputs": [
    {
     "data": {
      "text/plain": [
       "20"
      ]
     },
     "execution_count": 310,
     "metadata": {},
     "output_type": "execute_result"
    }
   ],
   "source": [
    "lucky_seven([1, 2, 2, 1, 7])"
   ]
  },
  {
   "cell_type": "code",
   "execution_count": 311,
   "metadata": {},
   "outputs": [
    {
     "data": {
      "text/plain": [
       "30"
      ]
     },
     "execution_count": 311,
     "metadata": {},
     "output_type": "execute_result"
    }
   ],
   "source": [
    "lucky_seven([1, 2, 2, 1, 7, 3, 1])"
   ]
  },
  {
   "cell_type": "markdown",
   "metadata": {},
   "source": [
    "# Exercise 15: Pascal's Triangle\n",
    "\n",
    "[Pascals Triangle](https://en.wikipedia.org/wiki/Pascal%27s_triangle) is a mathematical structure that's important in statistics and [combinatorics](https://en.wikipedia.org/wiki/Combinatorics). It starts with the number 1 and expands as a pyramid where a number is the sum of it's diagonal neighbors on the row above it.\n",
    "\n",
    "It looks like this (you can find more examples in the links):\n",
    "\n",
    "```\n",
    "                 1\n",
    "               1   1\n",
    "             1   2   1\n",
    "           1   3   3   1\n",
    "         1   4   6   4   1\n",
    "       1   5   10   10   5   1\n",
    "     1   6   15   20   15   6   1\n",
    "   1   7   21   35   35   21   7   1\n",
    "```\n",
    "\n",
    "Write a function that given an integer (the number of rows) prints out pascal's triangle up to the specified row. Example:\n",
    "\n",
    "```\n",
    "pascal_triangle(8)\n",
    "```\n",
    "out:\n",
    "```\n",
    "                 1\n",
    "\n",
    "               1   1\n",
    "\n",
    "             1   2   1\n",
    "\n",
    "           1   3   3   1\n",
    "\n",
    "         1   4   6   4   1\n",
    "\n",
    "       1   5   10   10   5   1\n",
    "\n",
    "     1   6   15   20   15   6   1\n",
    "\n",
    "   1   7   21   35   35   21   7   1\n",
    "\n",
    "```\n",
    "Another example\n",
    "\n",
    "```\n",
    "pascal_triangle(3)\n",
    "```\n",
    "out:\n",
    "```\n",
    "                 1\n",
    "\n",
    "               1   1\n",
    "\n",
    "             1   2   1\n",
    "\n",
    "```"
   ]
  },
  {
   "cell_type": "code",
   "execution_count": 312,
   "metadata": {},
   "outputs": [],
   "source": [
    "def pascal_triangle(n):\n",
    "    \n",
    "    # we will need n rows in our triangle\n",
    "    # each row that we descend, our width will grow by one\n",
    "    \n",
    "    # perform the work for the first row which is trivial\n",
    "    txt = ' ' * (n - 1) * 2 + '1'\n",
    "    print(f\"{txt}\\n\")\n",
    "    \n",
    "    # exit if n = 1\n",
    "    if n == 1:\n",
    "        return\n",
    "    \n",
    "    # initialize the \"old\" array for the logic ahead\n",
    "    old = [1]\n",
    "    # set up the FOR loops\n",
    "\n",
    "    for i in list(range(2, n+1)):\n",
    "        # create an array of the proper width\n",
    "        current = list(range(i))\n",
    "\n",
    "        # first element is always 1\n",
    "        current[0] = 1\n",
    "\n",
    "        # start blank spaces of next line\n",
    "        txt = '  ' * (n - i) + str(current[0])\n",
    "\n",
    "        #loop the rest of the elements\n",
    "        for j in list(range(1, i)):\n",
    "\n",
    "            # populate each element with the sum of the \n",
    "            # trailing elements in the row above (old)\n",
    "            if j != i-1:\n",
    "                current[j] = old[j] + old[j-1]\n",
    "            else:\n",
    "                # do last element separately\n",
    "                current[j] =          old[j-1]\n",
    "            \n",
    "            # populate text line\n",
    "            txt = txt + '  ' * 2 + str(current[j])\n",
    "\n",
    "        print(f\"{txt}\\n\")\n",
    "        old = current\n",
    "        \n",
    "    return"
   ]
  },
  {
   "cell_type": "code",
   "execution_count": 313,
   "metadata": {},
   "outputs": [
    {
     "name": "stdout",
     "output_type": "stream",
     "text": [
      "        1\n",
      "\n",
      "      1    1\n",
      "\n",
      "    1    2    1\n",
      "\n",
      "  1    3    3    1\n",
      "\n",
      "1    4    6    4    1\n",
      "\n"
     ]
    }
   ],
   "source": [
    "pascal_triangle(5)"
   ]
  },
  {
   "cell_type": "code",
   "execution_count": 314,
   "metadata": {},
   "outputs": [
    {
     "name": "stdout",
     "output_type": "stream",
     "text": [
      "              1\n",
      "\n",
      "            1    1\n",
      "\n",
      "          1    2    1\n",
      "\n",
      "        1    3    3    1\n",
      "\n",
      "      1    4    6    4    1\n",
      "\n",
      "    1    5    10    10    5    1\n",
      "\n",
      "  1    6    15    20    15    6    1\n",
      "\n",
      "1    7    21    35    35    21    7    1\n",
      "\n"
     ]
    }
   ],
   "source": [
    "pascal_triangle(8)"
   ]
  },
  {
   "cell_type": "code",
   "execution_count": 315,
   "metadata": {},
   "outputs": [
    {
     "name": "stdout",
     "output_type": "stream",
     "text": [
      "            1\n",
      "\n",
      "          1    1\n",
      "\n",
      "        1    2    1\n",
      "\n",
      "      1    3    3    1\n",
      "\n",
      "    1    4    6    4    1\n",
      "\n",
      "  1    5    10    10    5    1\n",
      "\n",
      "1    6    15    20    15    6    1\n",
      "\n"
     ]
    }
   ],
   "source": [
    "pascal_triangle(7)"
   ]
  },
  {
   "cell_type": "code",
   "execution_count": null,
   "metadata": {},
   "outputs": [],
   "source": []
  }
 ],
 "metadata": {
  "file_extension": ".py",
  "kernelspec": {
   "display_name": "Python 3",
   "language": "python",
   "name": "python3"
  },
  "language_info": {
   "codemirror_mode": {
    "name": "ipython",
    "version": 3
   },
   "file_extension": ".py",
   "mimetype": "text/x-python",
   "name": "python",
   "nbconvert_exporter": "python",
   "pygments_lexer": "ipython3",
   "version": "3.8.3"
  },
  "mimetype": "text/x-python",
  "name": "python",
  "npconvert_exporter": "python",
  "pygments_lexer": "ipython3",
  "version": 3
 },
 "nbformat": 4,
 "nbformat_minor": 2
}
